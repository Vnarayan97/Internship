{
 "cells": [
  {
   "cell_type": "markdown",
   "id": "2fb884de",
   "metadata": {},
   "source": [
    "Q.11 Write a python program to find the factorial of a number.\n"
   ]
  },
  {
   "cell_type": "code",
   "execution_count": 2,
   "id": "4ee844b5",
   "metadata": {},
   "outputs": [
    {
     "name": "stdout",
     "output_type": "stream",
     "text": [
      "ENTER THE NUMBER HERE  4\n",
      "THE FACTORIAL OF THE NUMBER 4 IS :  24\n"
     ]
    }
   ],
   "source": [
    "def fact(n):\n",
    "    fac=1\n",
    "    if n in [0,1]:\n",
    "        fac=1\n",
    "    else:\n",
    "        for i in range(1,n+1):\n",
    "            fac=fac*i\n",
    "    return fac\n",
    "\n",
    "n=int(input(\"ENTER THE NUMBER HERE  \"))\n",
    "print(f\"THE FACTORIAL OF THE NUMBER {n} IS :  {fact(n)}\")\n",
    "    "
   ]
  },
  {
   "cell_type": "markdown",
   "id": "8c506f34",
   "metadata": {},
   "source": [
    "-----------------------------------------------------------------------------------------------------------------------\n"
   ]
  },
  {
   "cell_type": "markdown",
   "id": "6743324c",
   "metadata": {},
   "source": [
    "Q 12-- Write a python program to find whether a number is prime or composite"
   ]
  },
  {
   "cell_type": "code",
   "execution_count": 1,
   "id": "bc909b83",
   "metadata": {},
   "outputs": [
    {
     "name": "stdout",
     "output_type": "stream",
     "text": [
      "ENTER THE NUMBER TO BE CHECKED HERE PLEASE !!! :  3\n",
      "ITS A PRIME NUMBER\n"
     ]
    }
   ],
   "source": [
    "def chc(n):\n",
    "    if n<2:\n",
    "        raise Exception(\"PLEASE ENTER A NUMBER GREATER THAN 1 BECAUSE 0 AND 1 ARE NEITHER PRIME NOR COMPOSITE\")\n",
    "    else:\n",
    "        f=False\n",
    "        for i in range(2,n):\n",
    "            if(n%i==0):\n",
    "                f=True\n",
    "                break\n",
    "    if (f==False):\n",
    "        print(\"ITS A PRIME NUMBER\")\n",
    "    else:\n",
    "        print(\"ITS A COMPOSITE NUMBER\")\n",
    "            \n",
    "    \n",
    "n=int(input(\"ENTER THE NUMBER TO BE CHECKED HERE PLEASE !!! :  \"))\n",
    "chc(n)\n",
    "        "
   ]
  },
  {
   "cell_type": "markdown",
   "id": "a0c2c580",
   "metadata": {},
   "source": [
    "-------------------------------------------------------------------------------------------------------------------------------\n"
   ]
  },
  {
   "cell_type": "markdown",
   "id": "2b7292c2",
   "metadata": {},
   "source": [
    "13. Write a python program to check whether a given string is palindrome or not"
   ]
  },
  {
   "cell_type": "code",
   "execution_count": 19,
   "id": "e63e1594",
   "metadata": {},
   "outputs": [
    {
     "name": "stdout",
     "output_type": "stream",
     "text": [
      "ENTER THE STRING : raar\n",
      "\n",
      "YES A PALINDROME\n"
     ]
    }
   ],
   "source": [
    "def palin(n):\n",
    "    if(n==n[::-1]):\n",
    "        print(\"\\nYES A PALINDROME\")\n",
    "    else:\n",
    "        print(\"\\nNOT A PALINDROME\")\n",
    "n=input(\"ENTER THE STRING : \")     \n",
    "palin(n)\n"
   ]
  },
  {
   "cell_type": "markdown",
   "id": "c1114dc3",
   "metadata": {},
   "source": [
    "-----------------------------------------------------------------------------------------------------------------------------"
   ]
  },
  {
   "cell_type": "markdown",
   "id": "4ced9b80",
   "metadata": {},
   "source": [
    "14. Write a Python program to get the third side of right-angled triangle from two given sides"
   ]
  },
  {
   "cell_type": "code",
   "execution_count": 10,
   "id": "de3e883e",
   "metadata": {},
   "outputs": [
    {
     "name": "stdout",
     "output_type": "stream",
     "text": [
      "\n",
      "Assuming perpendicular and base are given!!\n",
      "\n",
      "\n",
      "Hypotaneous is -- 5.0\n"
     ]
    }
   ],
   "source": [
    "import numpy as np\n",
    "def hyp(p,b):\n",
    "    print('\\nAssuming perpendicular and base are given!!')\n",
    "    hyp=np.sqrt(np.square(p)+np.square(b))\n",
    "    print(\"\\n\\nHypotaneous is --\",hyp)\n",
    "    \n",
    "p=3\n",
    "b=4\n",
    "hyp(p,b)\n",
    "    \n",
    "    "
   ]
  },
  {
   "cell_type": "code",
   "execution_count": 8,
   "id": "47a72114",
   "metadata": {},
   "outputs": [
    {
     "data": {
      "text/plain": [
       "4"
      ]
     },
     "execution_count": 8,
     "metadata": {},
     "output_type": "execute_result"
    }
   ],
   "source": [
    "np.square(2)"
   ]
  },
  {
   "cell_type": "markdown",
   "id": "d7ef3744",
   "metadata": {},
   "source": [
    "----------------------------------------------------------------------------------------------------------------------------\n",
    "\n"
   ]
  },
  {
   "cell_type": "markdown",
   "id": "8da44f18",
   "metadata": {},
   "source": [
    "Q15.... Write a python program to print the frequency of each of the characters present in a given string"
   ]
  },
  {
   "cell_type": "code",
   "execution_count": 71,
   "id": "690d9ea2",
   "metadata": {},
   "outputs": [
    {
     "name": "stdout",
     "output_type": "stream",
     "text": [
      "Enter the string here   regggggkjernkjermglkermgkermgkrtmgnrtg\n"
     ]
    },
    {
     "data": {
      "text/html": [
       "<div>\n",
       "<style scoped>\n",
       "    .dataframe tbody tr th:only-of-type {\n",
       "        vertical-align: middle;\n",
       "    }\n",
       "\n",
       "    .dataframe tbody tr th {\n",
       "        vertical-align: top;\n",
       "    }\n",
       "\n",
       "    .dataframe thead th {\n",
       "        text-align: right;\n",
       "    }\n",
       "</style>\n",
       "<table border=\"1\" class=\"dataframe\">\n",
       "  <thead>\n",
       "    <tr style=\"text-align: right;\">\n",
       "      <th></th>\n",
       "      <th>Characters</th>\n",
       "      <th>Freq</th>\n",
       "    </tr>\n",
       "  </thead>\n",
       "  <tbody>\n",
       "    <tr>\n",
       "      <th>0</th>\n",
       "      <td>r</td>\n",
       "      <td>7</td>\n",
       "    </tr>\n",
       "    <tr>\n",
       "      <th>1</th>\n",
       "      <td>e</td>\n",
       "      <td>5</td>\n",
       "    </tr>\n",
       "    <tr>\n",
       "      <th>2</th>\n",
       "      <td>g</td>\n",
       "      <td>10</td>\n",
       "    </tr>\n",
       "    <tr>\n",
       "      <th>3</th>\n",
       "      <td>k</td>\n",
       "      <td>5</td>\n",
       "    </tr>\n",
       "    <tr>\n",
       "      <th>4</th>\n",
       "      <td>j</td>\n",
       "      <td>2</td>\n",
       "    </tr>\n",
       "    <tr>\n",
       "      <th>5</th>\n",
       "      <td>n</td>\n",
       "      <td>2</td>\n",
       "    </tr>\n",
       "    <tr>\n",
       "      <th>6</th>\n",
       "      <td>m</td>\n",
       "      <td>4</td>\n",
       "    </tr>\n",
       "    <tr>\n",
       "      <th>7</th>\n",
       "      <td>l</td>\n",
       "      <td>1</td>\n",
       "    </tr>\n",
       "    <tr>\n",
       "      <th>8</th>\n",
       "      <td>t</td>\n",
       "      <td>2</td>\n",
       "    </tr>\n",
       "  </tbody>\n",
       "</table>\n",
       "</div>"
      ],
      "text/plain": [
       "  Characters  Freq\n",
       "0          r     7\n",
       "1          e     5\n",
       "2          g    10\n",
       "3          k     5\n",
       "4          j     2\n",
       "5          n     2\n",
       "6          m     4\n",
       "7          l     1\n",
       "8          t     2"
      ]
     },
     "execution_count": 71,
     "metadata": {},
     "output_type": "execute_result"
    }
   ],
   "source": [
    "from collections import Counter\n",
    "def cnt(n):\n",
    "    cn=dict(Counter(n))\n",
    "    df=pd.DataFrame({\"Characters\":[i for i in cn.keys()],'Freq':[i for i in cn.values()]},columns=['Characters','Freq'])\n",
    "    return df\n",
    "\n",
    "n=input(\"Enter the string here   \")\n",
    "cnt(n)\n",
    "    "
   ]
  },
  {
   "cell_type": "code",
   "execution_count": null,
   "id": "ffb0a4c3",
   "metadata": {},
   "outputs": [],
   "source": []
  }
 ],
 "metadata": {
  "kernelspec": {
   "display_name": "Python 3 (ipykernel)",
   "language": "python",
   "name": "python3"
  },
  "language_info": {
   "codemirror_mode": {
    "name": "ipython",
    "version": 3
   },
   "file_extension": ".py",
   "mimetype": "text/x-python",
   "name": "python",
   "nbconvert_exporter": "python",
   "pygments_lexer": "ipython3",
   "version": "3.9.12"
  }
 },
 "nbformat": 4,
 "nbformat_minor": 5
}
