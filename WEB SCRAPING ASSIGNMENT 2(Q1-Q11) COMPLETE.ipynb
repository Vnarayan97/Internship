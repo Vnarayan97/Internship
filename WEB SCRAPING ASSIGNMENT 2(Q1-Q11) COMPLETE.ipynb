{
 "cells": [
  {
   "cell_type": "markdown",
   "id": "baa84913",
   "metadata": {},
   "source": [
    "----------WEB SCRAPING ASSIGNMENT 2)-----------------------------------------------------------------\n",
    "-------------------------"
   ]
  },
  {
   "cell_type": "markdown",
   "id": "095addc5",
   "metadata": {},
   "source": [
    "Q1)---------: Write a python program to scrape data for “Data Analyst” Job position in “Bangalore” location. You\n",
    "have to scrape the job-title, job-location, company_name, experience_required. You have to scrape first 10\n",
    "jobs data.\n",
    "This task will be done in following steps:\n",
    "1. First get the webpage https://www.naukri.com/\n",
    "2. Enter “Data Analyst” in “Skill, Designations, Companies” field and enter “Bangalore” in “enter the\n",
    "location” field.\n",
    "3. Then click the search button.\n",
    "4. Then scrape the data for the first 10 jobs results you get.\n",
    "5. Finally create a dataframe of the scraped data.\n",
    "Note: All of the above steps have to be done in code. No step is to be done manually.\n"
   ]
  },
  {
   "cell_type": "markdown",
   "id": "5fb3ca24",
   "metadata": {},
   "source": [
    "---------------------------INSERING ALL THE NECESSARY LIBRARIES---------------------------------"
   ]
  },
  {
   "cell_type": "code",
   "execution_count": 1,
   "id": "4f91b101",
   "metadata": {},
   "outputs": [],
   "source": [
    "import selenium\n",
    "from selenium import webdriver\n",
    "from selenium.webdriver.common.by import By\n",
    "import warnings\n",
    "warnings.filterwarnings('ignore')\n",
    "import time\n",
    "import pandas as pd\n",
    "import numpy as np\n",
    "import re\n",
    "pd.options.display.max_colwidth = 200"
   ]
  },
  {
   "cell_type": "code",
   "execution_count": 2,
   "id": "09039910",
   "metadata": {},
   "outputs": [],
   "source": [
    "driver=webdriver.Chrome(r'C:\\Users\\VNarayan\\Downloads\\chromedriver.exe')"
   ]
  },
  {
   "cell_type": "code",
   "execution_count": 3,
   "id": "945af954",
   "metadata": {},
   "outputs": [],
   "source": [
    "driver.maximize_window()"
   ]
  },
  {
   "cell_type": "code",
   "execution_count": 4,
   "id": "e5f9de5e",
   "metadata": {},
   "outputs": [],
   "source": [
    "url='https://www.naukri.com/'"
   ]
  },
  {
   "cell_type": "markdown",
   "id": "25f63d87",
   "metadata": {},
   "source": [
    "-----------------GETTING THE URL-------------------------------------------------------------------"
   ]
  },
  {
   "cell_type": "code",
   "execution_count": 5,
   "id": "5a3eb772",
   "metadata": {},
   "outputs": [],
   "source": [
    "driver.get(url)"
   ]
  },
  {
   "cell_type": "markdown",
   "id": "0193eb24",
   "metadata": {},
   "source": [
    "--------------------SEARCHING FOR DATA ANALYST------------------------"
   ]
  },
  {
   "cell_type": "code",
   "execution_count": 6,
   "id": "cdc951a9",
   "metadata": {},
   "outputs": [],
   "source": [
    "search_job=driver.find_element(By.CLASS_NAME,'suggestor-input ')\n",
    "search_job.send_keys('DATA ANALYST')"
   ]
  },
  {
   "cell_type": "markdown",
   "id": "958f8dff",
   "metadata": {},
   "source": [
    "----------SETTING LOCATION AS BANGALORE----------------------------"
   ]
  },
  {
   "cell_type": "code",
   "execution_count": 7,
   "id": "c5994b02",
   "metadata": {},
   "outputs": [],
   "source": [
    "search_loc=driver.find_element(By.XPATH,'/html/body/div[1]/div[6]/div/div/div[5]/div/div/div/input')\n",
    "search_loc.send_keys('Bangalore')"
   ]
  },
  {
   "cell_type": "markdown",
   "id": "1a0dfef6",
   "metadata": {},
   "source": [
    "--------------------CLICKING THE SEARCH BUTTON-------------------------------------"
   ]
  },
  {
   "cell_type": "code",
   "execution_count": 8,
   "id": "e7266681",
   "metadata": {},
   "outputs": [],
   "source": [
    "next_click=driver.find_element(By.CLASS_NAME,'qsbSubmit')\n",
    "next_click.click()"
   ]
  },
  {
   "cell_type": "markdown",
   "id": "f44d0af9",
   "metadata": {},
   "source": [
    "----------------------------MAKING LIST OF SUITABLE DATA USING XPATH--------------------------------------------"
   ]
  },
  {
   "cell_type": "code",
   "execution_count": 9,
   "id": "eccd1681",
   "metadata": {},
   "outputs": [],
   "source": [
    "job_t=[]\n",
    "comp_n=[]\n",
    "job_l=[]\n",
    "ex_r=[]\n",
    "\n"
   ]
  },
  {
   "cell_type": "markdown",
   "id": "6fb0679f",
   "metadata": {},
   "source": [
    "ITERATING THROUGH THE LISTS AND APPENDING OUT REQUIRED INFORMATION OF 10 PAGES "
   ]
  },
  {
   "cell_type": "code",
   "execution_count": 11,
   "id": "3010480f",
   "metadata": {},
   "outputs": [
    {
     "name": "stdout",
     "output_type": "stream",
     "text": [
      "\n",
      "\n",
      "SCRAPING PAGE - 1\n",
      "\n",
      "\n",
      "SCRAPING PAGE - 2\n",
      "\n",
      "\n",
      "SCRAPING PAGE - 3\n",
      "\n",
      "\n",
      "SCRAPING PAGE - 4\n",
      "\n",
      "\n",
      "SCRAPING PAGE - 5\n",
      "\n",
      "\n",
      "SCRAPING PAGE - 6\n",
      "\n",
      "\n",
      "SCRAPING PAGE - 7\n",
      "\n",
      "\n",
      "SCRAPING PAGE - 8\n",
      "\n",
      "\n",
      "SCRAPING PAGE - 9\n",
      "\n",
      "\n",
      "SCRAPING PAGE - 10\n"
     ]
    }
   ],
   "source": [
    "for i in range(1,11):\n",
    "    print('\\n\\nSCRAPING PAGE -',i)\n",
    "    #creating the lists of job title using class \n",
    "    ab=driver.find_elements(By.XPATH,\"//a[@class='title fw500 ellipsis']\")\n",
    "    for i in ab:\n",
    "        job_t.append(i.text)\n",
    "    #creating the list of company names using class\n",
    "    cn=driver.find_elements(By.XPATH,\"//a[@class='subTitle ellipsis fleft']\")\n",
    "    for i in cn:\n",
    "        comp_n.append(i.text)\n",
    "    #creating the list of job locations using class\n",
    "    loc=driver.find_elements(By.XPATH,\"//ul[@class='mt-7']/li[3]\")\n",
    "    for i in loc:\n",
    "        job_l.append(i.text)\n",
    "    #creating the list of experienced required using class and li\n",
    "    ex=driver.find_elements(By.XPATH,\"//ul[@class='mt-7']/li[1]\")\n",
    "    for i in ex:\n",
    "        ex_r.append(i.text)\n",
    "    #creating the next button \n",
    "    nxt=driver.find_element(By.XPATH,'//a[@class=\"fright fs14 btn-secondary br2\"]/span')   \n",
    "    try:\n",
    "        nxt.click()\n",
    "    except:\n",
    "        print('LAST PAGE')\n",
    "        break\n",
    "    time.sleep(2)\n",
    "    \n",
    "    "
   ]
  },
  {
   "cell_type": "markdown",
   "id": "ac8da9f6",
   "metadata": {},
   "source": [
    "MAKING A DATA FRAME WITH ALL THE INFORMATION WE SCRAPED "
   ]
  },
  {
   "cell_type": "code",
   "execution_count": 12,
   "id": "118f31a7",
   "metadata": {},
   "outputs": [],
   "source": [
    "naukri=pd.DataFrame({'COMPANY_NAME':comp_n,\"JOB_TITLE\":job_t,\"EXPERIENCE REQUIRED\":ex_r,\"JOB_LOCATION\":job_l})"
   ]
  },
  {
   "cell_type": "code",
   "execution_count": 13,
   "id": "fb56801e",
   "metadata": {},
   "outputs": [
    {
     "data": {
      "text/html": [
       "<div>\n",
       "<style scoped>\n",
       "    .dataframe tbody tr th:only-of-type {\n",
       "        vertical-align: middle;\n",
       "    }\n",
       "\n",
       "    .dataframe tbody tr th {\n",
       "        vertical-align: top;\n",
       "    }\n",
       "\n",
       "    .dataframe thead th {\n",
       "        text-align: right;\n",
       "    }\n",
       "</style>\n",
       "<table border=\"1\" class=\"dataframe\">\n",
       "  <thead>\n",
       "    <tr style=\"text-align: right;\">\n",
       "      <th></th>\n",
       "      <th>COMPANY_NAME</th>\n",
       "      <th>JOB_TITLE</th>\n",
       "      <th>EXPERIENCE REQUIRED</th>\n",
       "      <th>JOB_LOCATION</th>\n",
       "    </tr>\n",
       "  </thead>\n",
       "  <tbody>\n",
       "    <tr>\n",
       "      <th>0</th>\n",
       "      <td>CGI</td>\n",
       "      <td>Senior Data Analyst - PLM Data Migration</td>\n",
       "      <td>3-6 Yrs</td>\n",
       "      <td>Bangalore/Bengaluru</td>\n",
       "    </tr>\n",
       "    <tr>\n",
       "      <th>1</th>\n",
       "      <td>Mobile Premier League (MPL)</td>\n",
       "      <td>Lead Data Analyst</td>\n",
       "      <td>4-7 Yrs</td>\n",
       "      <td>Bangalore/Bengaluru</td>\n",
       "    </tr>\n",
       "    <tr>\n",
       "      <th>2</th>\n",
       "      <td>NMS Consultant</td>\n",
       "      <td>Sr. Data Analyst (SAS Data Management)</td>\n",
       "      <td>5-10 Yrs</td>\n",
       "      <td>Bangalore/Bengaluru, New Delhi</td>\n",
       "    </tr>\n",
       "    <tr>\n",
       "      <th>3</th>\n",
       "      <td>IBM</td>\n",
       "      <td>Data Analyst</td>\n",
       "      <td>3-4 Yrs</td>\n",
       "      <td>Bangalore/Bengaluru</td>\n",
       "    </tr>\n",
       "    <tr>\n",
       "      <th>4</th>\n",
       "      <td>IBM</td>\n",
       "      <td>Data Analyst</td>\n",
       "      <td>3-4 Yrs</td>\n",
       "      <td>Bangalore/Bengaluru</td>\n",
       "    </tr>\n",
       "    <tr>\n",
       "      <th>...</th>\n",
       "      <td>...</td>\n",
       "      <td>...</td>\n",
       "      <td>...</td>\n",
       "      <td>...</td>\n",
       "    </tr>\n",
       "    <tr>\n",
       "      <th>195</th>\n",
       "      <td>WAKEFIT INNOVATIONS PRIVATE LIMITED</td>\n",
       "      <td>Data Analyst</td>\n",
       "      <td>1-4 Yrs</td>\n",
       "      <td>Bangalore/Bengaluru</td>\n",
       "    </tr>\n",
       "    <tr>\n",
       "      <th>196</th>\n",
       "      <td>Nineleaps</td>\n",
       "      <td>Data Analyst</td>\n",
       "      <td>1-4 Yrs</td>\n",
       "      <td>Bangalore/Bengaluru</td>\n",
       "    </tr>\n",
       "    <tr>\n",
       "      <th>197</th>\n",
       "      <td>Zolostays</td>\n",
       "      <td>Data Analyst</td>\n",
       "      <td>5-10 Yrs</td>\n",
       "      <td>Bangalore/Bengaluru</td>\n",
       "    </tr>\n",
       "    <tr>\n",
       "      <th>198</th>\n",
       "      <td>Talent500</td>\n",
       "      <td>Data Analyst - SQL | Hy-Vee</td>\n",
       "      <td>3-8 Yrs</td>\n",
       "      <td>Bangalore/Bengaluru</td>\n",
       "    </tr>\n",
       "    <tr>\n",
       "      <th>199</th>\n",
       "      <td>Talent500</td>\n",
       "      <td>Data Analyst - Nielsen / IRI | Pepsico</td>\n",
       "      <td>4-9 Yrs</td>\n",
       "      <td>Bangalore/Bengaluru, Hyderabad/Secunderabad, Chennai</td>\n",
       "    </tr>\n",
       "  </tbody>\n",
       "</table>\n",
       "<p>200 rows × 4 columns</p>\n",
       "</div>"
      ],
      "text/plain": [
       "                            COMPANY_NAME  \\\n",
       "0                                    CGI   \n",
       "1            Mobile Premier League (MPL)   \n",
       "2                         NMS Consultant   \n",
       "3                                    IBM   \n",
       "4                                    IBM   \n",
       "..                                   ...   \n",
       "195  WAKEFIT INNOVATIONS PRIVATE LIMITED   \n",
       "196                            Nineleaps   \n",
       "197                            Zolostays   \n",
       "198                            Talent500   \n",
       "199                            Talent500   \n",
       "\n",
       "                                    JOB_TITLE EXPERIENCE REQUIRED  \\\n",
       "0    Senior Data Analyst - PLM Data Migration             3-6 Yrs   \n",
       "1                           Lead Data Analyst             4-7 Yrs   \n",
       "2      Sr. Data Analyst (SAS Data Management)            5-10 Yrs   \n",
       "3                                Data Analyst             3-4 Yrs   \n",
       "4                                Data Analyst             3-4 Yrs   \n",
       "..                                        ...                 ...   \n",
       "195                              Data Analyst             1-4 Yrs   \n",
       "196                              Data Analyst             1-4 Yrs   \n",
       "197                              Data Analyst            5-10 Yrs   \n",
       "198               Data Analyst - SQL | Hy-Vee             3-8 Yrs   \n",
       "199    Data Analyst - Nielsen / IRI | Pepsico             4-9 Yrs   \n",
       "\n",
       "                                             JOB_LOCATION  \n",
       "0                                     Bangalore/Bengaluru  \n",
       "1                                     Bangalore/Bengaluru  \n",
       "2                          Bangalore/Bengaluru, New Delhi  \n",
       "3                                     Bangalore/Bengaluru  \n",
       "4                                     Bangalore/Bengaluru  \n",
       "..                                                    ...  \n",
       "195                                   Bangalore/Bengaluru  \n",
       "196                                   Bangalore/Bengaluru  \n",
       "197                                   Bangalore/Bengaluru  \n",
       "198                                   Bangalore/Bengaluru  \n",
       "199  Bangalore/Bengaluru, Hyderabad/Secunderabad, Chennai  \n",
       "\n",
       "[200 rows x 4 columns]"
      ]
     },
     "execution_count": 13,
     "metadata": {},
     "output_type": "execute_result"
    }
   ],
   "source": [
    "naukri"
   ]
  },
  {
   "cell_type": "code",
   "execution_count": 14,
   "id": "7268689d",
   "metadata": {},
   "outputs": [],
   "source": [
    "driver.quit()"
   ]
  },
  {
   "cell_type": "markdown",
   "id": "e59b147f",
   "metadata": {},
   "source": [
    "---------------------------------------------------------------------------------------------------------------------------"
   ]
  },
  {
   "cell_type": "markdown",
   "id": "aac48005",
   "metadata": {},
   "source": [
    "Q2: Write a python program to scrape data for “Data Scientist” Job position in “Bangalore” location. You\n",
    "have to scrape the job-title, job-location, company_name. You have to scrape first 10 jobs data.\n",
    "This task will be done in following steps:\n",
    "1. First get the webpage https://www.naukri.com/\n",
    "2. Enter “Data Scientist” in “Skill, Designations, Companies” field and enter “Bangalore” in “enter the\n",
    "location” field.\n",
    "3. Then click the search button.\n",
    "4. Then scrape the data for the first 10 jobs results you get.\n",
    "5. Finally create a dataframe of the scraped data."
   ]
  },
  {
   "cell_type": "markdown",
   "id": "5db7301a",
   "metadata": {},
   "source": [
    "GETTING URL"
   ]
  },
  {
   "cell_type": "code",
   "execution_count": 15,
   "id": "de247f1d",
   "metadata": {},
   "outputs": [],
   "source": [
    "driver=webdriver.Chrome(r'C:\\Users\\VNarayan\\Downloads\\chromedriver.exe')\n",
    "driver.maximize_window()\n"
   ]
  },
  {
   "cell_type": "code",
   "execution_count": 16,
   "id": "fb6e0984",
   "metadata": {},
   "outputs": [],
   "source": [
    "url='https://www.naukri.com/'\n",
    "driver.get(url)"
   ]
  },
  {
   "cell_type": "markdown",
   "id": "d3cd0a80",
   "metadata": {},
   "source": [
    "--------------------SEARCHING FOR DATA SCIENTIST------------------------"
   ]
  },
  {
   "cell_type": "code",
   "execution_count": 17,
   "id": "dc06dbef",
   "metadata": {},
   "outputs": [],
   "source": [
    "search_job=driver.find_element(By.CLASS_NAME,'suggestor-input')\n",
    "search_job.send_keys('DATA SCIENTIST')"
   ]
  },
  {
   "cell_type": "markdown",
   "id": "73ba298e",
   "metadata": {},
   "source": [
    "------------SETTING LOCATION AS Bangalore--------------------------------------------"
   ]
  },
  {
   "cell_type": "code",
   "execution_count": 18,
   "id": "212cd862",
   "metadata": {},
   "outputs": [],
   "source": [
    "search_loc=driver.find_element(By.XPATH,'/html/body/div[1]/div[6]/div/div/div[5]/div/div/div/input')\n",
    "search_loc.send_keys('Bangalore')"
   ]
  },
  {
   "cell_type": "markdown",
   "id": "ed3fcf57",
   "metadata": {},
   "source": [
    "--------------------CLICKING THE SEARCH BUTTON-------------------------------------"
   ]
  },
  {
   "cell_type": "code",
   "execution_count": 19,
   "id": "7000052b",
   "metadata": {},
   "outputs": [],
   "source": [
    "next_click=driver.find_element(By.CLASS_NAME,'qsbSubmit')\n",
    "next_click.click()"
   ]
  },
  {
   "cell_type": "markdown",
   "id": "fd775553",
   "metadata": {},
   "source": [
    "----------------------------MAKING LIST OF SUITABLE DATA USING XPATH--------------------------------------------"
   ]
  },
  {
   "cell_type": "code",
   "execution_count": 20,
   "id": "75e05172",
   "metadata": {},
   "outputs": [],
   "source": [
    "job_title=[]\n",
    "comp_name=[]\n",
    "job_location=[]"
   ]
  },
  {
   "cell_type": "markdown",
   "id": "148465fe",
   "metadata": {},
   "source": [
    "ITERATING THROUGH THE LISTS AND APPENDING OUT REQUIRED INFORMATION OF 10 PAGES "
   ]
  },
  {
   "cell_type": "code",
   "execution_count": 21,
   "id": "d77c083d",
   "metadata": {},
   "outputs": [
    {
     "name": "stdout",
     "output_type": "stream",
     "text": [
      "\n",
      "\n",
      "SCRAPING PAGE - 1\n",
      "\n",
      "\n",
      "SCRAPING PAGE - 2\n",
      "\n",
      "\n",
      "SCRAPING PAGE - 3\n",
      "\n",
      "\n",
      "SCRAPING PAGE - 4\n",
      "\n",
      "\n",
      "SCRAPING PAGE - 5\n",
      "\n",
      "\n",
      "SCRAPING PAGE - 6\n",
      "\n",
      "\n",
      "SCRAPING PAGE - 7\n",
      "\n",
      "\n",
      "SCRAPING PAGE - 8\n",
      "\n",
      "\n",
      "SCRAPING PAGE - 9\n",
      "\n",
      "\n",
      "SCRAPING PAGE - 10\n"
     ]
    }
   ],
   "source": [
    "for i in range(1,11):\n",
    "    print('\\n\\nSCRAPING PAGE -',i)\n",
    "    #creating the list of job titles using class\n",
    "    ab=driver.find_elements(By.XPATH,\"//a[@class='title fw500 ellipsis']\")\n",
    "    for i in ab:\n",
    "        job_title.append(i.text)\n",
    "    #creating the list of company names using class tag    \n",
    "    cn=driver.find_elements(By.XPATH,\"//a[@class='subTitle ellipsis fleft']\")\n",
    "    for i in cn:\n",
    "        comp_name.append(i.text)\n",
    "    #creating the list of job locations using class tag    \n",
    "    loc=driver.find_elements(By.XPATH,\"//ul[@class='mt-7']/li[3]\")\n",
    "    for i in loc:\n",
    "        job_location.append(i.text)\n",
    "    nxt=driver.find_element(By.XPATH,'//a[@class=\"fright fs14 btn-secondary br2\"]/span')   \n",
    "    try:\n",
    "        nxt.click()\n",
    "    except:\n",
    "        print('LAST PAGE')\n",
    "        break\n",
    "    time.sleep(2)"
   ]
  },
  {
   "cell_type": "code",
   "execution_count": 22,
   "id": "96952eb4",
   "metadata": {},
   "outputs": [],
   "source": [
    "data_scientist=pd.DataFrame({\"JOB_TITLE\":job_title,\"COMPANY_NAME\":comp_name,\"JOB LOCATION\":job_location})"
   ]
  },
  {
   "cell_type": "code",
   "execution_count": 23,
   "id": "7fd77df7",
   "metadata": {},
   "outputs": [
    {
     "data": {
      "text/html": [
       "<div>\n",
       "<style scoped>\n",
       "    .dataframe tbody tr th:only-of-type {\n",
       "        vertical-align: middle;\n",
       "    }\n",
       "\n",
       "    .dataframe tbody tr th {\n",
       "        vertical-align: top;\n",
       "    }\n",
       "\n",
       "    .dataframe thead th {\n",
       "        text-align: right;\n",
       "    }\n",
       "</style>\n",
       "<table border=\"1\" class=\"dataframe\">\n",
       "  <thead>\n",
       "    <tr style=\"text-align: right;\">\n",
       "      <th></th>\n",
       "      <th>JOB_TITLE</th>\n",
       "      <th>COMPANY_NAME</th>\n",
       "      <th>JOB LOCATION</th>\n",
       "    </tr>\n",
       "  </thead>\n",
       "  <tbody>\n",
       "    <tr>\n",
       "      <th>0</th>\n",
       "      <td>Analystics &amp; Modeling Specialist</td>\n",
       "      <td>Accenture</td>\n",
       "      <td>Bangalore/Bengaluru, Kolkata, Mumbai, Hyderabad/Secunderabad, Pune, Chennai</td>\n",
       "    </tr>\n",
       "    <tr>\n",
       "      <th>1</th>\n",
       "      <td>Senior Data Scientist</td>\n",
       "      <td>Wipro</td>\n",
       "      <td>Hybrid - Bangalore/Bengaluru, Pune, Chennai</td>\n",
       "    </tr>\n",
       "    <tr>\n",
       "      <th>2</th>\n",
       "      <td>Data Scientist - Looking For Immediate Joiners</td>\n",
       "      <td>Wipro</td>\n",
       "      <td>Hybrid - Bangalore/Bengaluru, Hyderabad/Secunderabad</td>\n",
       "    </tr>\n",
       "    <tr>\n",
       "      <th>3</th>\n",
       "      <td>Assistant Manager - Data Science</td>\n",
       "      <td>Citiustech</td>\n",
       "      <td>Hybrid - Bangalore/Bengaluru, Mumbai, Pune</td>\n",
       "    </tr>\n",
       "    <tr>\n",
       "      <th>4</th>\n",
       "      <td>Data Scientist</td>\n",
       "      <td>Altair</td>\n",
       "      <td>Bangalore/Bengaluru, Hyderabad/Secunderabad, Pune, Chennai</td>\n",
       "    </tr>\n",
       "    <tr>\n",
       "      <th>...</th>\n",
       "      <td>...</td>\n",
       "      <td>...</td>\n",
       "      <td>...</td>\n",
       "    </tr>\n",
       "    <tr>\n",
       "      <th>195</th>\n",
       "      <td>Senior Data Scientist</td>\n",
       "      <td>Harman Connected Services Corporation India Pvt.</td>\n",
       "      <td>Bangalore/Bengaluru</td>\n",
       "    </tr>\n",
       "    <tr>\n",
       "      <th>196</th>\n",
       "      <td>Sr. Data Scientist</td>\n",
       "      <td>Silicon Valley Bank</td>\n",
       "      <td>Bangalore/Bengaluru</td>\n",
       "    </tr>\n",
       "    <tr>\n",
       "      <th>197</th>\n",
       "      <td>Data Science- AI Product</td>\n",
       "      <td>Spectral Consultants</td>\n",
       "      <td>Bangalore/Bengaluru</td>\n",
       "    </tr>\n",
       "    <tr>\n",
       "      <th>198</th>\n",
       "      <td>Assoc Data Scientist</td>\n",
       "      <td>ACI Worldwide</td>\n",
       "      <td>Bangalore/Bengaluru</td>\n",
       "    </tr>\n",
       "    <tr>\n",
       "      <th>199</th>\n",
       "      <td>Data Scientist</td>\n",
       "      <td>Uplers</td>\n",
       "      <td>Permanent Remote</td>\n",
       "    </tr>\n",
       "  </tbody>\n",
       "</table>\n",
       "<p>200 rows × 3 columns</p>\n",
       "</div>"
      ],
      "text/plain": [
       "                                          JOB_TITLE  \\\n",
       "0                  Analystics & Modeling Specialist   \n",
       "1                             Senior Data Scientist   \n",
       "2    Data Scientist - Looking For Immediate Joiners   \n",
       "3                  Assistant Manager - Data Science   \n",
       "4                                    Data Scientist   \n",
       "..                                              ...   \n",
       "195                           Senior Data Scientist   \n",
       "196                              Sr. Data Scientist   \n",
       "197                        Data Science- AI Product   \n",
       "198                            Assoc Data Scientist   \n",
       "199                                  Data Scientist   \n",
       "\n",
       "                                         COMPANY_NAME  \\\n",
       "0                                           Accenture   \n",
       "1                                               Wipro   \n",
       "2                                               Wipro   \n",
       "3                                          Citiustech   \n",
       "4                                              Altair   \n",
       "..                                                ...   \n",
       "195  Harman Connected Services Corporation India Pvt.   \n",
       "196                               Silicon Valley Bank   \n",
       "197                              Spectral Consultants   \n",
       "198                                     ACI Worldwide   \n",
       "199                                            Uplers   \n",
       "\n",
       "                                                                    JOB LOCATION  \n",
       "0    Bangalore/Bengaluru, Kolkata, Mumbai, Hyderabad/Secunderabad, Pune, Chennai  \n",
       "1                                    Hybrid - Bangalore/Bengaluru, Pune, Chennai  \n",
       "2                           Hybrid - Bangalore/Bengaluru, Hyderabad/Secunderabad  \n",
       "3                                     Hybrid - Bangalore/Bengaluru, Mumbai, Pune  \n",
       "4                     Bangalore/Bengaluru, Hyderabad/Secunderabad, Pune, Chennai  \n",
       "..                                                                           ...  \n",
       "195                                                          Bangalore/Bengaluru  \n",
       "196                                                          Bangalore/Bengaluru  \n",
       "197                                                          Bangalore/Bengaluru  \n",
       "198                                                          Bangalore/Bengaluru  \n",
       "199                                                             Permanent Remote  \n",
       "\n",
       "[200 rows x 3 columns]"
      ]
     },
     "execution_count": 23,
     "metadata": {},
     "output_type": "execute_result"
    }
   ],
   "source": [
    "data_scientist"
   ]
  },
  {
   "cell_type": "code",
   "execution_count": 24,
   "id": "26724b40",
   "metadata": {},
   "outputs": [],
   "source": [
    "driver.quit()"
   ]
  },
  {
   "cell_type": "markdown",
   "id": "848eec3e",
   "metadata": {},
   "source": [
    "--------------------------------------------------------------------------------------------------------------------------------------------------"
   ]
  },
  {
   "cell_type": "markdown",
   "id": "d3fbf85d",
   "metadata": {},
   "source": [
    "Q3: In this question you have to scrape data using the filters available on the webpage as shown below:\n",
    "ASSIGNMENT 2\n",
    "You have to use the location and salary filter.\n",
    "You have to scrape data for “Data Scientist” designation for first 10 job results.\n",
    "You have to scrape the job-title, job-location, company name, experience required.\n",
    "The location filter to be used is “Delhi/NCR”. The salary filter to be used is “3-6” lakhs\n",
    "The task will be done as shown in the below steps:\n",
    "1. first get the webpage https://www.naukri.com/\n",
    "2. Enter “Data Scientist” in “Skill, Designations, and Companies” field.\n",
    "3. Then click the search button.\n",
    "4. Then apply the location filter and salary filter by checking the respective boxes\n",
    "5. Then scrape the data for the first 10 jobs results you get.\n",
    "6. Finally create a dataframe of the scraped data.\n",
    "Note: All of the above steps have to be done in code. No step is to be done manually"
   ]
  },
  {
   "cell_type": "markdown",
   "id": "dfeebcf8",
   "metadata": {},
   "source": [
    "GETTING URL"
   ]
  },
  {
   "cell_type": "code",
   "execution_count": 25,
   "id": "bdd37e44",
   "metadata": {},
   "outputs": [],
   "source": [
    "\n",
    "driver=webdriver.Chrome(r'C:\\Users\\VNarayan\\Downloads\\chromedriver.exe')\n",
    "driver.maximize_window()"
   ]
  },
  {
   "cell_type": "code",
   "execution_count": 26,
   "id": "71cdd909",
   "metadata": {},
   "outputs": [],
   "source": [
    "url='https://www.naukri.com/'\n",
    "driver.get(url)"
   ]
  },
  {
   "cell_type": "markdown",
   "id": "71e4d1fa",
   "metadata": {},
   "source": [
    "--------------------SEARCHING FOR DATA SCIENTIST------------------------"
   ]
  },
  {
   "cell_type": "code",
   "execution_count": 27,
   "id": "c0dd415e",
   "metadata": {},
   "outputs": [],
   "source": [
    "search_job=driver.find_element(By.CLASS_NAME,'suggestor-input')\n",
    "search_job.send_keys('DATA SCIENTIST')"
   ]
  },
  {
   "cell_type": "markdown",
   "id": "6d82ff82",
   "metadata": {},
   "source": [
    "--------------------CLICKING THE SEARCH BUTTON-------------------------------------"
   ]
  },
  {
   "cell_type": "code",
   "execution_count": 28,
   "id": "22aaeb27",
   "metadata": {},
   "outputs": [],
   "source": [
    "next_click=driver.find_element(By.CLASS_NAME,'qsbSubmit')\n",
    "next_click.click()"
   ]
  },
  {
   "cell_type": "markdown",
   "id": "77ecc8fe",
   "metadata": {},
   "source": [
    "----------SETTING THE LOCATION FILTER AS DELHI/NCR AND MARKING SALARY FILTER AS 3-6 LAKH-----------------------------"
   ]
  },
  {
   "cell_type": "code",
   "execution_count": 29,
   "id": "e6b92355",
   "metadata": {},
   "outputs": [],
   "source": [
    "fil_click=driver.find_element(By.XPATH,\"//span[contains(@title,'Delhi') and @class='ellipsis fleft']\")"
   ]
  },
  {
   "cell_type": "code",
   "execution_count": 30,
   "id": "33b602ee",
   "metadata": {},
   "outputs": [],
   "source": [
    "fil_click.click()"
   ]
  },
  {
   "cell_type": "code",
   "execution_count": 32,
   "id": "28c9c866",
   "metadata": {},
   "outputs": [],
   "source": [
    "sal_clic=driver.find_element(By.XPATH,\"/html/body/div[1]/div[4]/div/section[1]/div[2]/div[6]/div[2]/div[2]/label/p/span[1]\")\n",
    "sal_clic.click()"
   ]
  },
  {
   "cell_type": "markdown",
   "id": "cc57a9bb",
   "metadata": {},
   "source": [
    "----------------------------MAKING LIST OF SUITABLE DATA USING XPATH--------------------------------------------"
   ]
  },
  {
   "cell_type": "code",
   "execution_count": 33,
   "id": "91dc1ee9",
   "metadata": {},
   "outputs": [],
   "source": [
    "jobt=[]\n",
    "comp=[]\n",
    "jobl=[]\n",
    "exr=[]\n"
   ]
  },
  {
   "cell_type": "markdown",
   "id": "377230ce",
   "metadata": {},
   "source": [
    "ITERATING THROUGH THE LISTS AND APPENDING OUT REQUIRED INFORMATION OF 10 PAGES "
   ]
  },
  {
   "cell_type": "code",
   "execution_count": 34,
   "id": "85dc7c4c",
   "metadata": {},
   "outputs": [
    {
     "name": "stdout",
     "output_type": "stream",
     "text": [
      "\n",
      "\n",
      "SCRAPING PAGE - 1\n",
      "LAST PAGE\n"
     ]
    }
   ],
   "source": [
    "for i in range(1,11):\n",
    "    print('\\n\\nSCRAPING PAGE -',i)\n",
    "    #creating list of job titles using class \n",
    "    ab=driver.find_elements(By.XPATH,\"//a[@class='title fw500 ellipsis']\")\n",
    "    for i in ab:\n",
    "        jobt.append(i.text)\n",
    "    #creating list of comp names using class    \n",
    "    cn=driver.find_elements(By.XPATH,\"//a[@class='subTitle ellipsis fleft']\")\n",
    "    for i in cn:\n",
    "        comp.append(i.text)\n",
    "    #creating list of job locations using class    \n",
    "    loc=driver.find_elements(By.XPATH,\"//ul[@class='mt-7']/li[3]\")\n",
    "    for i in loc:\n",
    "        jobl.append(i.text)\n",
    "    #creating list of experience required using class and li tags    \n",
    "    ex=driver.find_elements(By.XPATH,\"//ul[@class='mt-7']/li[1]\")\n",
    "    for i in ex:\n",
    "        exr.append(i.text)\n",
    "    nxt=driver.find_element(By.XPATH,'//a[@class=\"fright fs14 btn-secondary br2\"]/span')   \n",
    "    try:\n",
    "        nxt.click()\n",
    "    except:\n",
    "        print('LAST PAGE')\n",
    "        break\n",
    "    time.sleep(2)\n",
    "    "
   ]
  },
  {
   "cell_type": "markdown",
   "id": "9793d0ec",
   "metadata": {},
   "source": [
    "-----------------------------------CREATING THE DATAFRAME--------------------------------"
   ]
  },
  {
   "cell_type": "code",
   "execution_count": 35,
   "id": "abe6c69f",
   "metadata": {},
   "outputs": [],
   "source": [
    "dat=pd.DataFrame({'JOB_TITLE':jobt,'COMPANY':comp,\"JOB_LOCATION\":jobl,\"EXPERIENCE\":exr})"
   ]
  },
  {
   "cell_type": "code",
   "execution_count": 36,
   "id": "ff841477",
   "metadata": {},
   "outputs": [
    {
     "data": {
      "text/html": [
       "<div>\n",
       "<style scoped>\n",
       "    .dataframe tbody tr th:only-of-type {\n",
       "        vertical-align: middle;\n",
       "    }\n",
       "\n",
       "    .dataframe tbody tr th {\n",
       "        vertical-align: top;\n",
       "    }\n",
       "\n",
       "    .dataframe thead th {\n",
       "        text-align: right;\n",
       "    }\n",
       "</style>\n",
       "<table border=\"1\" class=\"dataframe\">\n",
       "  <thead>\n",
       "    <tr style=\"text-align: right;\">\n",
       "      <th></th>\n",
       "      <th>JOB_TITLE</th>\n",
       "      <th>COMPANY</th>\n",
       "      <th>JOB_LOCATION</th>\n",
       "      <th>EXPERIENCE</th>\n",
       "    </tr>\n",
       "  </thead>\n",
       "  <tbody>\n",
       "    <tr>\n",
       "      <th>0</th>\n",
       "      <td>Data Scientist</td>\n",
       "      <td>HCLTech</td>\n",
       "      <td>Noida, Hyderabad/Secunderabad, Chennai, Bangalore/Bengaluru</td>\n",
       "      <td>4-9 Yrs</td>\n",
       "    </tr>\n",
       "    <tr>\n",
       "      <th>1</th>\n",
       "      <td>DigitalBCG GAMMA Data Scientist</td>\n",
       "      <td>Boston Consulting Group</td>\n",
       "      <td>New Delhi, Bangalore/Bengaluru</td>\n",
       "      <td>2-5 Yrs</td>\n",
       "    </tr>\n",
       "    <tr>\n",
       "      <th>2</th>\n",
       "      <td>Urgent hiring For Data Scientist (PHD Must Have)</td>\n",
       "      <td>NGI Ventures</td>\n",
       "      <td>Temp. WFH - Noida, Pune</td>\n",
       "      <td>0-4 Yrs</td>\n",
       "    </tr>\n",
       "    <tr>\n",
       "      <th>3</th>\n",
       "      <td>Manager - Data Science - Banking&amp;Financial Services - IIM/ISB/MDI/FMS</td>\n",
       "      <td>Black Turtle</td>\n",
       "      <td>Delhi / NCR, Bangalore/Bengaluru</td>\n",
       "      <td>4-8 Yrs</td>\n",
       "    </tr>\n",
       "    <tr>\n",
       "      <th>4</th>\n",
       "      <td>Data Scientist</td>\n",
       "      <td>torcai digital media</td>\n",
       "      <td>Dehradun, Hyderabad/Secunderabad, Gurgaon/Gurugram</td>\n",
       "      <td>2-7 Yrs</td>\n",
       "    </tr>\n",
       "    <tr>\n",
       "      <th>5</th>\n",
       "      <td>Data Scientist</td>\n",
       "      <td>Meon Technologies</td>\n",
       "      <td>Noida</td>\n",
       "      <td>2-5 Yrs</td>\n",
       "    </tr>\n",
       "    <tr>\n",
       "      <th>6</th>\n",
       "      <td>Data Scientist</td>\n",
       "      <td>Alliance Recruitment Agency</td>\n",
       "      <td>Noida</td>\n",
       "      <td>3-4 Yrs</td>\n",
       "    </tr>\n",
       "    <tr>\n",
       "      <th>7</th>\n",
       "      <td>Data Specialist</td>\n",
       "      <td>RCPC</td>\n",
       "      <td>Noida</td>\n",
       "      <td>4-6 Yrs</td>\n",
       "    </tr>\n",
       "    <tr>\n",
       "      <th>8</th>\n",
       "      <td>Data scientist- Python</td>\n",
       "      <td>TeamPlus Staffing Solution Pvt Ltd</td>\n",
       "      <td>Gurgaon/Gurugram</td>\n",
       "      <td>3-6 Yrs</td>\n",
       "    </tr>\n",
       "    <tr>\n",
       "      <th>9</th>\n",
       "      <td>Data Scientist</td>\n",
       "      <td>Razor Group GmbH</td>\n",
       "      <td>New Delhi</td>\n",
       "      <td>2-3 Yrs</td>\n",
       "    </tr>\n",
       "    <tr>\n",
       "      <th>10</th>\n",
       "      <td>Senior Data Scientist - Python (f/m/x)</td>\n",
       "      <td>Razor Group GmbH</td>\n",
       "      <td>New Delhi</td>\n",
       "      <td>5-10 Yrs</td>\n",
       "    </tr>\n",
       "  </tbody>\n",
       "</table>\n",
       "</div>"
      ],
      "text/plain": [
       "                                                                JOB_TITLE  \\\n",
       "0                                                          Data Scientist   \n",
       "1                                         DigitalBCG GAMMA Data Scientist   \n",
       "2                        Urgent hiring For Data Scientist (PHD Must Have)   \n",
       "3   Manager - Data Science - Banking&Financial Services - IIM/ISB/MDI/FMS   \n",
       "4                                                          Data Scientist   \n",
       "5                                                          Data Scientist   \n",
       "6                                                          Data Scientist   \n",
       "7                                                         Data Specialist   \n",
       "8                                                  Data scientist- Python   \n",
       "9                                                          Data Scientist   \n",
       "10                                 Senior Data Scientist - Python (f/m/x)   \n",
       "\n",
       "                               COMPANY  \\\n",
       "0                              HCLTech   \n",
       "1              Boston Consulting Group   \n",
       "2                         NGI Ventures   \n",
       "3                         Black Turtle   \n",
       "4                 torcai digital media   \n",
       "5                    Meon Technologies   \n",
       "6          Alliance Recruitment Agency   \n",
       "7                                 RCPC   \n",
       "8   TeamPlus Staffing Solution Pvt Ltd   \n",
       "9                     Razor Group GmbH   \n",
       "10                    Razor Group GmbH   \n",
       "\n",
       "                                                   JOB_LOCATION EXPERIENCE  \n",
       "0   Noida, Hyderabad/Secunderabad, Chennai, Bangalore/Bengaluru    4-9 Yrs  \n",
       "1                                New Delhi, Bangalore/Bengaluru    2-5 Yrs  \n",
       "2                                       Temp. WFH - Noida, Pune    0-4 Yrs  \n",
       "3                              Delhi / NCR, Bangalore/Bengaluru    4-8 Yrs  \n",
       "4            Dehradun, Hyderabad/Secunderabad, Gurgaon/Gurugram    2-7 Yrs  \n",
       "5                                                         Noida    2-5 Yrs  \n",
       "6                                                         Noida    3-4 Yrs  \n",
       "7                                                         Noida    4-6 Yrs  \n",
       "8                                              Gurgaon/Gurugram    3-6 Yrs  \n",
       "9                                                     New Delhi    2-3 Yrs  \n",
       "10                                                    New Delhi   5-10 Yrs  "
      ]
     },
     "execution_count": 36,
     "metadata": {},
     "output_type": "execute_result"
    }
   ],
   "source": [
    "dat"
   ]
  },
  {
   "cell_type": "code",
   "execution_count": 37,
   "id": "a406168d",
   "metadata": {},
   "outputs": [],
   "source": [
    "driver.quit()"
   ]
  },
  {
   "cell_type": "markdown",
   "id": "868cec4d",
   "metadata": {},
   "source": [
    "--------------------------------------------------------------------------------------------------------------------------------------------------------------------------------------------------------------------------------------------------------------------------"
   ]
  },
  {
   "cell_type": "markdown",
   "id": "331b0817",
   "metadata": {},
   "source": [
    "Q4: Scrape data of first 100 sunglasses listings on flipkart.com. You have to scrape four attributes:\n",
    "1. Brand\n",
    "2. Product Description\n",
    "3. Price\n",
    "The attributes which you have to scrape is ticked marked in the below image.\n",
    "To scrape the data you have to go through following steps:\n",
    "1. Go to Flipkart webpage by url : https://www.flipkart.com/\n",
    "2. Enter “sunglasses” in the search field where “search for products, brands and more” is written and\n",
    "click the search icon\n",
    "3. After that you will reach to the page having a lot of sunglasses. From this page you can scrap the\n",
    "required data as usual.\n",
    "ASSIGNMENT 2\n",
    "4. After scraping data from the first page, go to the “Next” Button at the bottom other page , then\n",
    "click on it.\n",
    "5. Now scrape data from this page as usual\n",
    "6. Repeat this until you get data for 100 sunglasses.\n",
    "Note: That all of the above steps have to be done by coding only and not manually"
   ]
  },
  {
   "cell_type": "markdown",
   "id": "76873032",
   "metadata": {},
   "source": [
    "------------------------GETTING THE URL-----------------------"
   ]
  },
  {
   "cell_type": "code",
   "execution_count": 38,
   "id": "9bdde132",
   "metadata": {},
   "outputs": [],
   "source": [
    "driver=webdriver.Chrome(r'C:\\Users\\VNarayan\\Downloads\\chromedriver.exe')\n",
    "driver.maximize_window()"
   ]
  },
  {
   "cell_type": "code",
   "execution_count": 39,
   "id": "2144de2f",
   "metadata": {},
   "outputs": [],
   "source": [
    "url='https://www.flipkart.com/'\n",
    "driver.get(url)"
   ]
  },
  {
   "cell_type": "markdown",
   "id": "cb9cfed5",
   "metadata": {},
   "source": [
    "-------------SETTING SEARCH AS SUNGLASSES IN SEARCH BOX-------------------------"
   ]
  },
  {
   "cell_type": "code",
   "execution_count": 40,
   "id": "fc5d84e4",
   "metadata": {},
   "outputs": [],
   "source": [
    "srch=driver.find_element(By.XPATH,'//input[@class=\"_3704LK\"]')"
   ]
  },
  {
   "cell_type": "code",
   "execution_count": 41,
   "id": "68870ed7",
   "metadata": {},
   "outputs": [],
   "source": [
    "srch.send_keys('sunglasses')"
   ]
  },
  {
   "cell_type": "markdown",
   "id": "f278a087",
   "metadata": {},
   "source": [
    "------------------CLICKING ON SEARCH TAB--------------------------"
   ]
  },
  {
   "cell_type": "code",
   "execution_count": 42,
   "id": "762e137d",
   "metadata": {},
   "outputs": [],
   "source": [
    "go=driver.find_element(By.XPATH,'//button[@class=\"L0Z3Pu\"]')"
   ]
  },
  {
   "cell_type": "code",
   "execution_count": 43,
   "id": "44458afa",
   "metadata": {},
   "outputs": [],
   "source": [
    "go.click()"
   ]
  },
  {
   "cell_type": "markdown",
   "id": "282131df",
   "metadata": {},
   "source": [
    "--------------CREATING LISTS OF INFORMATION TAGS WE WANT TO FETCH-------------------------------"
   ]
  },
  {
   "cell_type": "code",
   "execution_count": 44,
   "id": "2449abd6",
   "metadata": {},
   "outputs": [],
   "source": [
    "br=[]\n",
    "fe=[]\n",
    "pri=[]\n",
    "off=[]\n"
   ]
  },
  {
   "cell_type": "markdown",
   "id": "1a3617bb",
   "metadata": {},
   "source": [
    "------------CREATING NEXT BUTTON LINK---------------------------------"
   ]
  },
  {
   "cell_type": "code",
   "execution_count": 45,
   "id": "4d10bcfe",
   "metadata": {},
   "outputs": [],
   "source": [
    "nxt=driver.find_element(By.XPATH,'//a[@class=\"_1LKTO3\" and contains(span,\"Next\")]')"
   ]
  },
  {
   "cell_type": "markdown",
   "id": "dd8474b7",
   "metadata": {},
   "source": [
    "----------------ITERATING BETWEEN THE LISTS WE SCRAPED USING SELENIUM USING FOR LOOPS FOR EACH CATEGORY----------------------"
   ]
  },
  {
   "cell_type": "code",
   "execution_count": 46,
   "id": "56a6b21b",
   "metadata": {},
   "outputs": [
    {
     "name": "stdout",
     "output_type": "stream",
     "text": [
      "SCRAPING PAGE-- 1\n",
      "SCRAPING PAGE-- 2\n",
      "SCRAPING PAGE-- 3\n",
      "LIST FULL NO APPEND\n",
      "SCRAPING PAGE-- 4\n",
      "LIST FULL NO APPEND\n"
     ]
    }
   ],
   "source": [
    "for i in range(1,5):\n",
    "    print(\"SCRAPING PAGE--\",i)\n",
    "    #creating list of brand name using class and div tag\n",
    "    ab=driver.find_elements(By.XPATH,'//div[@class=\"_2WkVRV\"]')\n",
    "    for i in ab:\n",
    "        if(len(br)<100):\n",
    "            br.append(i.text)\n",
    "        else:\n",
    "            break\n",
    "    #creating list of features using class         \n",
    "    cd=driver.find_elements(By.XPATH,\"//a[@class='IRpwTa']\")\n",
    "    for i in cd:\n",
    "        if(len(fe)<100):\n",
    "            fe.append(i.text)\n",
    "        else:\n",
    "            break\n",
    "    #creating list of prices using div and class        \n",
    "    ef=driver.find_elements(By.XPATH,\"//div[@class='_30jeq3']\")\n",
    "    for i in ef:\n",
    "        if(len(pri)<100):\n",
    "            pri.append(i.text)\n",
    "        else:\n",
    "            break\n",
    "    # creating lists of discounts offered using class and div        \n",
    "    gh=driver.find_elements(By.XPATH,\"//div[@class='_3Ay6Sb']\")\n",
    "    for i in gh:\n",
    "        if(len(off)<100):\n",
    "            off.append(i.text)\n",
    "        else:\n",
    "            break\n",
    "    #condition which checks if lists are not full        \n",
    "    if(len(br)<100 and len(fe)<100 and len(pri)<100 and len(off)<100):\n",
    "        nxt=driver.find_element(By.XPATH,'//a[@class=\"_1LKTO3\" and contains(span,\"Next\")]')\n",
    "        nxt.click()\n",
    "        time.sleep(3)\n",
    "    else:\n",
    "        print(\"LIST FULL NO APPEND\")\n",
    "        \n",
    "    \n",
    "        \n",
    "        \n",
    "    \n",
    "            \n",
    "            \n",
    "            \n",
    "           \n",
    "            \n",
    "            \n",
    "            \n",
    "    "
   ]
  },
  {
   "cell_type": "markdown",
   "id": "a7767680",
   "metadata": {},
   "source": [
    "---------------CREATING THE DATAFRAME OF THE SCRAPED DATA----------------------------------------------------------------"
   ]
  },
  {
   "cell_type": "code",
   "execution_count": 47,
   "id": "3565ab10",
   "metadata": {},
   "outputs": [],
   "source": [
    "sunglasses=pd.DataFrame({\"BRAND_NAME\":br,\"FEATURE\":fe,\"PRICE\":pri,\"DISCOUNT\":off})"
   ]
  },
  {
   "cell_type": "code",
   "execution_count": 48,
   "id": "f6102e5b",
   "metadata": {},
   "outputs": [
    {
     "data": {
      "text/html": [
       "<div>\n",
       "<style scoped>\n",
       "    .dataframe tbody tr th:only-of-type {\n",
       "        vertical-align: middle;\n",
       "    }\n",
       "\n",
       "    .dataframe tbody tr th {\n",
       "        vertical-align: top;\n",
       "    }\n",
       "\n",
       "    .dataframe thead th {\n",
       "        text-align: right;\n",
       "    }\n",
       "</style>\n",
       "<table border=\"1\" class=\"dataframe\">\n",
       "  <thead>\n",
       "    <tr style=\"text-align: right;\">\n",
       "      <th></th>\n",
       "      <th>BRAND_NAME</th>\n",
       "      <th>FEATURE</th>\n",
       "      <th>PRICE</th>\n",
       "      <th>DISCOUNT</th>\n",
       "    </tr>\n",
       "  </thead>\n",
       "  <tbody>\n",
       "    <tr>\n",
       "      <th>0</th>\n",
       "      <td>RESIST EYEWEAR</td>\n",
       "      <td>Polarized, Riding Glasses, UV Protection Wayfarer Sungl...</td>\n",
       "      <td>₹1,399</td>\n",
       "      <td>72% off</td>\n",
       "    </tr>\n",
       "    <tr>\n",
       "      <th>1</th>\n",
       "      <td>Silver Kartz</td>\n",
       "      <td>UV Protection Clubmaster Sunglasses (53)</td>\n",
       "      <td>₹279</td>\n",
       "      <td>81% off</td>\n",
       "    </tr>\n",
       "    <tr>\n",
       "      <th>2</th>\n",
       "      <td>Fastrack</td>\n",
       "      <td>UV Protection Wayfarer Sunglasses (Free Size)</td>\n",
       "      <td>₹649</td>\n",
       "      <td>35% off</td>\n",
       "    </tr>\n",
       "    <tr>\n",
       "      <th>3</th>\n",
       "      <td>PIRASO</td>\n",
       "      <td>UV Protection Rectangular Sunglasses (52)</td>\n",
       "      <td>₹199</td>\n",
       "      <td>87% off</td>\n",
       "    </tr>\n",
       "    <tr>\n",
       "      <th>4</th>\n",
       "      <td>New Specs</td>\n",
       "      <td>UV Protection Rectangular Sunglasses (Free Size)</td>\n",
       "      <td>₹254</td>\n",
       "      <td>90% off</td>\n",
       "    </tr>\n",
       "    <tr>\n",
       "      <th>...</th>\n",
       "      <td>...</td>\n",
       "      <td>...</td>\n",
       "      <td>...</td>\n",
       "      <td>...</td>\n",
       "    </tr>\n",
       "    <tr>\n",
       "      <th>95</th>\n",
       "      <td>Fastrack</td>\n",
       "      <td>UV Protection Aviator Sunglasses (Free Size)</td>\n",
       "      <td>₹629</td>\n",
       "      <td>30% off</td>\n",
       "    </tr>\n",
       "    <tr>\n",
       "      <th>96</th>\n",
       "      <td>ROYAL SON</td>\n",
       "      <td>UV Protection Round Sunglasses (50)</td>\n",
       "      <td>₹449</td>\n",
       "      <td>70% off</td>\n",
       "    </tr>\n",
       "    <tr>\n",
       "      <th>97</th>\n",
       "      <td>ROYAL SON</td>\n",
       "      <td>UV Protection Rectangular Sunglasses (64)</td>\n",
       "      <td>₹664</td>\n",
       "      <td>66% off</td>\n",
       "    </tr>\n",
       "    <tr>\n",
       "      <th>98</th>\n",
       "      <td>CRYSTAL CART</td>\n",
       "      <td>Polarized, UV Protection, Mirrored, Gradient Rectangula...</td>\n",
       "      <td>₹499</td>\n",
       "      <td>76% off</td>\n",
       "    </tr>\n",
       "    <tr>\n",
       "      <th>99</th>\n",
       "      <td>ROYAL SON</td>\n",
       "      <td>Polarized, UV Protection Wayfarer Sunglasses (61)</td>\n",
       "      <td>₹664</td>\n",
       "      <td>66% off</td>\n",
       "    </tr>\n",
       "  </tbody>\n",
       "</table>\n",
       "<p>100 rows × 4 columns</p>\n",
       "</div>"
      ],
      "text/plain": [
       "        BRAND_NAME  \\\n",
       "0   RESIST EYEWEAR   \n",
       "1     Silver Kartz   \n",
       "2         Fastrack   \n",
       "3           PIRASO   \n",
       "4        New Specs   \n",
       "..             ...   \n",
       "95        Fastrack   \n",
       "96       ROYAL SON   \n",
       "97       ROYAL SON   \n",
       "98    CRYSTAL CART   \n",
       "99       ROYAL SON   \n",
       "\n",
       "                                                       FEATURE   PRICE  \\\n",
       "0   Polarized, Riding Glasses, UV Protection Wayfarer Sungl...  ₹1,399   \n",
       "1                     UV Protection Clubmaster Sunglasses (53)    ₹279   \n",
       "2                UV Protection Wayfarer Sunglasses (Free Size)    ₹649   \n",
       "3                    UV Protection Rectangular Sunglasses (52)    ₹199   \n",
       "4             UV Protection Rectangular Sunglasses (Free Size)    ₹254   \n",
       "..                                                         ...     ...   \n",
       "95                UV Protection Aviator Sunglasses (Free Size)    ₹629   \n",
       "96                         UV Protection Round Sunglasses (50)    ₹449   \n",
       "97                   UV Protection Rectangular Sunglasses (64)    ₹664   \n",
       "98  Polarized, UV Protection, Mirrored, Gradient Rectangula...    ₹499   \n",
       "99           Polarized, UV Protection Wayfarer Sunglasses (61)    ₹664   \n",
       "\n",
       "   DISCOUNT  \n",
       "0   72% off  \n",
       "1   81% off  \n",
       "2   35% off  \n",
       "3   87% off  \n",
       "4   90% off  \n",
       "..      ...  \n",
       "95  30% off  \n",
       "96  70% off  \n",
       "97  66% off  \n",
       "98  76% off  \n",
       "99  66% off  \n",
       "\n",
       "[100 rows x 4 columns]"
      ]
     },
     "execution_count": 48,
     "metadata": {},
     "output_type": "execute_result"
    }
   ],
   "source": [
    "sunglasses"
   ]
  },
  {
   "cell_type": "code",
   "execution_count": 49,
   "id": "32a28eaf",
   "metadata": {},
   "outputs": [],
   "source": [
    "driver.quit()"
   ]
  },
  {
   "cell_type": "markdown",
   "id": "d03ad899",
   "metadata": {},
   "source": [
    "----------------------------------------------------------------------------------------------------------------------------------------------------------------------------"
   ]
  },
  {
   "cell_type": "markdown",
   "id": "df9b8df8",
   "metadata": {},
   "source": [
    "Q5)------Scrape 100 reviews data from flipkart.com for iphone11 phone. You have to go the link:\n",
    "https://www.flipkart.com/apple-iphone-11-black-64-gb-includes- earpods-power\u0002adapter/p/itm0f37c2240b217?pid=MOBFKCTSVZAXUHGR&lid=LSTMOBFKC\n",
    "TSVZAXUHGREPBFGI&marketplace.\n",
    "When you will open the above link you will reach to the below shown webpage .\n",
    "As shown in the above page you have to scrape the tick marked attributes.These are:\n",
    "1. Rating\n",
    "2. Review summary\n",
    "3. Full review\n",
    "4. You have to scrape this data for first 100 reviews.\n",
    "Note: All the steps required during scraping should be done through code only and not manually."
   ]
  },
  {
   "cell_type": "markdown",
   "id": "5f421710",
   "metadata": {},
   "source": [
    "------------------------------------------------GETTING THE URL-----------------------------------------------------------------"
   ]
  },
  {
   "cell_type": "code",
   "execution_count": 50,
   "id": "c98ad5e6",
   "metadata": {},
   "outputs": [],
   "source": [
    "driver=webdriver.Chrome(r'C:\\Users\\VNarayan\\Downloads\\chromedriver.exe')\n",
    "driver.maximize_window()"
   ]
  },
  {
   "cell_type": "markdown",
   "id": "e0e3c0ed",
   "metadata": {},
   "source": [
    "*******************SINCE THE LINK PROVIDED IS NOT WORKING WE HAVE TO USE DIFFERENT LINK**************************"
   ]
  },
  {
   "cell_type": "code",
   "execution_count": 51,
   "id": "f4e6058a",
   "metadata": {},
   "outputs": [],
   "source": [
    "url=\"https://www.flipkart.com/apple-iphone-11-black-64-gb/product-reviews/itm4e5041ba101fd?pid=MOBFWQ6BXGJCEYNY&lid=LSTMOBFWQ6BXGJCEYNYZXSHRJ&marketplace=FLIPKART\""
   ]
  },
  {
   "cell_type": "code",
   "execution_count": 52,
   "id": "5e545b92",
   "metadata": {},
   "outputs": [],
   "source": [
    "driver.get(url)"
   ]
  },
  {
   "cell_type": "markdown",
   "id": "e5593c28",
   "metadata": {},
   "source": [
    "CREATING THE LISTS REQUIRED FOR APPENDING THE REQUIRED INFORMATION"
   ]
  },
  {
   "cell_type": "code",
   "execution_count": 53,
   "id": "4172500c",
   "metadata": {},
   "outputs": [],
   "source": [
    "rating=[]\n",
    "over=[]\n",
    "comment=[]"
   ]
  },
  {
   "cell_type": "markdown",
   "id": "8f795555",
   "metadata": {},
   "source": [
    "ITERTAING OVER LISTS WE MAKE USING SELENIUM AND ACQUIRING USEFUL INFORMATION"
   ]
  },
  {
   "cell_type": "code",
   "execution_count": 54,
   "id": "3bc9437d",
   "metadata": {},
   "outputs": [
    {
     "name": "stdout",
     "output_type": "stream",
     "text": [
      "\n",
      "\n",
      "SCRAPING PAGE - 1\n",
      "\n",
      "\n",
      "SCRAPING PAGE - 2\n",
      "\n",
      "\n",
      "SCRAPING PAGE - 3\n",
      "\n",
      "\n",
      "SCRAPING PAGE - 4\n",
      "\n",
      "\n",
      "SCRAPING PAGE - 5\n",
      "\n",
      "\n",
      "SCRAPING PAGE - 6\n",
      "\n",
      "\n",
      "SCRAPING PAGE - 7\n",
      "\n",
      "\n",
      "SCRAPING PAGE - 8\n",
      "\n",
      "\n",
      "SCRAPING PAGE - 9\n",
      "\n",
      "\n",
      "SCRAPING PAGE - 10\n"
     ]
    }
   ],
   "source": [
    "for i in range(1,11):\n",
    "    print('\\n\\nSCRAPING PAGE -',i)\n",
    "    #creating list of rating using contain and class condition\n",
    "    rat=driver.find_elements(By.XPATH,'//div[contains(@class,\"_3LWZlK _\")]')\n",
    "    for k in rat:\n",
    "        rating.append(k.text)\n",
    "    #creating list of overall descriprion using class and p    \n",
    "    ove=driver.find_elements(By.XPATH,\"//p[@class='_2-N8zT']\")\n",
    "    for k in ove:\n",
    "        over.append(k.text)\n",
    "    #creating list of comments using class and div tag    \n",
    "    comm=driver.find_elements(By.XPATH,\"//div[@class='t-ZTKy']\")\n",
    "    for k in comm:\n",
    "        comment.append(k.text)\n",
    "    nxt=driver.find_element(By.XPATH,'//a[@class=\"_1LKTO3\" and contains(span,\"Next\")]')\n",
    "    nxt.click()\n",
    "    time.sleep(3)"
   ]
  },
  {
   "cell_type": "markdown",
   "id": "c2ed670c",
   "metadata": {},
   "source": [
    "--------------------------CREATING THE DATAFRAME------------------------------------------"
   ]
  },
  {
   "cell_type": "code",
   "execution_count": 55,
   "id": "29270d84",
   "metadata": {},
   "outputs": [],
   "source": [
    "reviews=pd.DataFrame({'RATING':rating,\"OVERALL DESCRIPTION\":over,\"COMMENT\":comment})"
   ]
  },
  {
   "cell_type": "code",
   "execution_count": 56,
   "id": "148f120c",
   "metadata": {},
   "outputs": [
    {
     "data": {
      "text/html": [
       "<div>\n",
       "<style scoped>\n",
       "    .dataframe tbody tr th:only-of-type {\n",
       "        vertical-align: middle;\n",
       "    }\n",
       "\n",
       "    .dataframe tbody tr th {\n",
       "        vertical-align: top;\n",
       "    }\n",
       "\n",
       "    .dataframe thead th {\n",
       "        text-align: right;\n",
       "    }\n",
       "</style>\n",
       "<table border=\"1\" class=\"dataframe\">\n",
       "  <thead>\n",
       "    <tr style=\"text-align: right;\">\n",
       "      <th></th>\n",
       "      <th>RATING</th>\n",
       "      <th>OVERALL DESCRIPTION</th>\n",
       "      <th>COMMENT</th>\n",
       "    </tr>\n",
       "  </thead>\n",
       "  <tbody>\n",
       "    <tr>\n",
       "      <th>0</th>\n",
       "      <td>5</td>\n",
       "      <td>Simply awesome</td>\n",
       "      <td>Really satisfied with the Product I received... It’s totally genuine and the packaging was also really good so if ur planning to buy just go for it.</td>\n",
       "    </tr>\n",
       "    <tr>\n",
       "      <th>1</th>\n",
       "      <td>4</td>\n",
       "      <td>Value-for-money</td>\n",
       "      <td>I'm Really happy with the product\\nDelivery was fast as well\\n..it was a gift for my sister and she loved it so much.</td>\n",
       "    </tr>\n",
       "    <tr>\n",
       "      <th>2</th>\n",
       "      <td>5</td>\n",
       "      <td>Perfect product!</td>\n",
       "      <td>Amazing phone with great cameras and better battery which gives you the best performance. I just love the camera .</td>\n",
       "    </tr>\n",
       "    <tr>\n",
       "      <th>3</th>\n",
       "      <td>5</td>\n",
       "      <td>Best in the market!</td>\n",
       "      <td>Great iPhone very snappy experience as apple kind. Upgraded from iPhone 7.\\nPros\\n-Camera top class\\n- Battery top performed\\n-Chipset no need to say as apple kind\\n-Security as you expect from ap...</td>\n",
       "    </tr>\n",
       "    <tr>\n",
       "      <th>4</th>\n",
       "      <td>5</td>\n",
       "      <td>Highly recommended</td>\n",
       "      <td>What a camera .....just awesome ..you can feel this iPhone just awesome . Good for gaming also ...try pubg in hd it’s just wow</td>\n",
       "    </tr>\n",
       "    <tr>\n",
       "      <th>...</th>\n",
       "      <td>...</td>\n",
       "      <td>...</td>\n",
       "      <td>...</td>\n",
       "    </tr>\n",
       "    <tr>\n",
       "      <th>95</th>\n",
       "      <td>1</td>\n",
       "      <td>Absolute rubbish!</td>\n",
       "      <td>Worst product delivered by Flipkart\\nAfter 10days of delivery mobile will not work properly\\nVolume and silent buttons are not working.\\nNo worth to buy in Flipkart.\\nPlease don’t buy apple produc...</td>\n",
       "    </tr>\n",
       "    <tr>\n",
       "      <th>96</th>\n",
       "      <td>5</td>\n",
       "      <td>Awesome</td>\n",
       "      <td>I dreamt about this day from a long time.... Getting an iPhone with my own money.... Super happy and worth spending every penny</td>\n",
       "    </tr>\n",
       "    <tr>\n",
       "      <th>97</th>\n",
       "      <td>5</td>\n",
       "      <td>Just wow!</td>\n",
       "      <td>Great iphone.\\nI am writing this review after 2 months of usage.\\nCamera is excellent, especially the nightmode\\nDisplay perfect\\nBattery backup awesome\\nSound quality very good\\nOverall Apple giv...</td>\n",
       "    </tr>\n",
       "    <tr>\n",
       "      <th>98</th>\n",
       "      <td>5</td>\n",
       "      <td>Super!</td>\n",
       "      <td>Did an upgrade from 6s plus to iphone 11.\\nAo far the experience is well and good. Felt smoother than 6s plus. The camera quality is superb. Battery backup is descent. Not a heavy user, and gets p...</td>\n",
       "    </tr>\n",
       "    <tr>\n",
       "      <th>99</th>\n",
       "      <td>5</td>\n",
       "      <td>Mind-blowing purchase</td>\n",
       "      <td>awesome Phone Smooth Touch Too good Sexyy looks one word Awesome</td>\n",
       "    </tr>\n",
       "  </tbody>\n",
       "</table>\n",
       "<p>100 rows × 3 columns</p>\n",
       "</div>"
      ],
      "text/plain": [
       "   RATING    OVERALL DESCRIPTION  \\\n",
       "0       5         Simply awesome   \n",
       "1       4        Value-for-money   \n",
       "2       5       Perfect product!   \n",
       "3       5    Best in the market!   \n",
       "4       5     Highly recommended   \n",
       "..    ...                    ...   \n",
       "95      1      Absolute rubbish!   \n",
       "96      5                Awesome   \n",
       "97      5              Just wow!   \n",
       "98      5                 Super!   \n",
       "99      5  Mind-blowing purchase   \n",
       "\n",
       "                                                                                                                                                                                                    COMMENT  \n",
       "0                                                      Really satisfied with the Product I received... It’s totally genuine and the packaging was also really good so if ur planning to buy just go for it.  \n",
       "1                                                                                     I'm Really happy with the product\\nDelivery was fast as well\\n..it was a gift for my sister and she loved it so much.  \n",
       "2                                                                                        Amazing phone with great cameras and better battery which gives you the best performance. I just love the camera .  \n",
       "3   Great iPhone very snappy experience as apple kind. Upgraded from iPhone 7.\\nPros\\n-Camera top class\\n- Battery top performed\\n-Chipset no need to say as apple kind\\n-Security as you expect from ap...  \n",
       "4                                                                            What a camera .....just awesome ..you can feel this iPhone just awesome . Good for gaming also ...try pubg in hd it’s just wow  \n",
       "..                                                                                                                                                                                                      ...  \n",
       "95  Worst product delivered by Flipkart\\nAfter 10days of delivery mobile will not work properly\\nVolume and silent buttons are not working.\\nNo worth to buy in Flipkart.\\nPlease don’t buy apple produc...  \n",
       "96                                                                          I dreamt about this day from a long time.... Getting an iPhone with my own money.... Super happy and worth spending every penny  \n",
       "97  Great iphone.\\nI am writing this review after 2 months of usage.\\nCamera is excellent, especially the nightmode\\nDisplay perfect\\nBattery backup awesome\\nSound quality very good\\nOverall Apple giv...  \n",
       "98  Did an upgrade from 6s plus to iphone 11.\\nAo far the experience is well and good. Felt smoother than 6s plus. The camera quality is superb. Battery backup is descent. Not a heavy user, and gets p...  \n",
       "99                                                                                                                                         awesome Phone Smooth Touch Too good Sexyy looks one word Awesome  \n",
       "\n",
       "[100 rows x 3 columns]"
      ]
     },
     "execution_count": 56,
     "metadata": {},
     "output_type": "execute_result"
    }
   ],
   "source": [
    "reviews"
   ]
  },
  {
   "cell_type": "code",
   "execution_count": 57,
   "id": "3f531bf0",
   "metadata": {},
   "outputs": [],
   "source": [
    "driver.quit()"
   ]
  },
  {
   "cell_type": "markdown",
   "id": "df33b66d",
   "metadata": {},
   "source": [
    "-----------------------------------------------------------------------------------------------------------------------------------------------------------------------------\n",
    "\n",
    "\n",
    "Q6: Scrape data for first 100 sneakers you find when you visit flipkart.com and search for “sneakers” in the\n",
    "search field.\n",
    "You have to scrape 4 attributes of each sneaker:\n",
    "1. Brand\n",
    "2. Product Description\n",
    "3. Price\n",
    "As shown in the below image, you have to scrape the tick marked attributes.\n",
    "ASSIGNMENT 2\n",
    "Note: All the steps required during scraping should be done through code only and not manually.\n"
   ]
  },
  {
   "cell_type": "markdown",
   "id": "68dc3856",
   "metadata": {},
   "source": [
    "GETTING THE REQUIRED URL///"
   ]
  },
  {
   "cell_type": "code",
   "execution_count": 58,
   "id": "1828f141",
   "metadata": {},
   "outputs": [],
   "source": [
    "driver=webdriver.Chrome(r'C:\\Users\\VNarayan\\Downloads\\chromedriver.exe')\n",
    "driver.maximize_window()"
   ]
  },
  {
   "cell_type": "code",
   "execution_count": 59,
   "id": "fd52794b",
   "metadata": {},
   "outputs": [],
   "source": [
    "url='https://www.flipkart.com/'\n",
    "driver.get(url)"
   ]
  },
  {
   "cell_type": "markdown",
   "id": "5bd3a505",
   "metadata": {},
   "source": [
    "SERACHING FOR \"Sneakers\" in search tab---"
   ]
  },
  {
   "cell_type": "code",
   "execution_count": 60,
   "id": "7a7a66a8",
   "metadata": {},
   "outputs": [],
   "source": [
    "srch=driver.find_element(By.XPATH,'//input[@class=\"_3704LK\"]')\n",
    "srch.send_keys('sneakers')"
   ]
  },
  {
   "cell_type": "markdown",
   "id": "39e0a576",
   "metadata": {},
   "source": [
    "------------clicking on the search button----------------------"
   ]
  },
  {
   "cell_type": "code",
   "execution_count": 61,
   "id": "0b11f0ca",
   "metadata": {},
   "outputs": [],
   "source": [
    "go=driver.find_element(By.XPATH,'//button[@class=\"L0Z3Pu\"]')\n",
    "go.click()"
   ]
  },
  {
   "cell_type": "markdown",
   "id": "e28f57a5",
   "metadata": {},
   "source": [
    "-----CREATING LISTS bd for BRAND NAME, pro for PRODUCT DESCRIPTION, and pr for PRICE----------------- "
   ]
  },
  {
   "cell_type": "code",
   "execution_count": 62,
   "id": "670c75cc",
   "metadata": {},
   "outputs": [],
   "source": [
    "bd=[]\n",
    "pro=[]\n",
    "pr=[]\n"
   ]
  },
  {
   "cell_type": "markdown",
   "id": "a199d478",
   "metadata": {},
   "source": [
    "------------USING SELENIUM TO CREATE LISTS OF REQUIRED ELEMENTS AND USING THE FOR LOOP TO OPERATE BETWEEN THEM ------------------"
   ]
  },
  {
   "cell_type": "code",
   "execution_count": 63,
   "id": "3a058a18",
   "metadata": {},
   "outputs": [
    {
     "name": "stdout",
     "output_type": "stream",
     "text": [
      "\n",
      "\n",
      "SCRAPING PAGE-- 1\n",
      "\n",
      "\n",
      "SCRAPING PAGE-- 2\n",
      "\n",
      "\n",
      "SCRAPING PAGE-- 3\n",
      "LISTS ARE FULL\n"
     ]
    }
   ],
   "source": [
    "for i in range(1,10):\n",
    "    print(\"\\n\\nSCRAPING PAGE--\",i)\n",
    "    #creating lists of brand name using XPATH and class \n",
    "    brnd=driver.find_elements(By.XPATH,\"//div[@class='_2WkVRV']\")\n",
    "    for k in brnd:\n",
    "        if(len(bd)<100):\n",
    "            bd.append(k.text)\n",
    "    #creating lists of product descriptions using class         \n",
    "    pdes=driver.find_elements(By.XPATH,\"//a[@class='IRpwTa']\")\n",
    "    for k in pdes:\n",
    "        if(len(pro)<100):\n",
    "            pro.append(k.text)\n",
    "    #creating list of price using XPATH div and class        \n",
    "    price=driver.find_elements(By.XPATH,\"//div[@class='_30jeq3']\")\n",
    "    for k in price:\n",
    "        if(len(pr)<100):\n",
    "            pr.append(k.text)\n",
    "    # checking condition which checks if lists are full        \n",
    "    if(len(bd)==100 and len(pro)==100 and len(pr)==100):\n",
    "        print(\"LISTS ARE FULL\")\n",
    "        break\n",
    "    else:\n",
    "        ns=driver.find_element(By.XPATH,'//a[contains(span,\"Next\") and @class=\"_1LKTO3\"]')\n",
    "        ns.click()\n",
    "        time.sleep(3)\n",
    "        \n",
    "    "
   ]
  },
  {
   "cell_type": "code",
   "execution_count": 64,
   "id": "98c4076d",
   "metadata": {},
   "outputs": [],
   "source": [
    "sneakers=pd.DataFrame({'BRAND':bd,'PRODUCT DESCRIPTION':pro,'PRICE':pr})"
   ]
  },
  {
   "cell_type": "code",
   "execution_count": 65,
   "id": "ad89e62a",
   "metadata": {},
   "outputs": [
    {
     "data": {
      "text/html": [
       "<div>\n",
       "<style scoped>\n",
       "    .dataframe tbody tr th:only-of-type {\n",
       "        vertical-align: middle;\n",
       "    }\n",
       "\n",
       "    .dataframe tbody tr th {\n",
       "        vertical-align: top;\n",
       "    }\n",
       "\n",
       "    .dataframe thead th {\n",
       "        text-align: right;\n",
       "    }\n",
       "</style>\n",
       "<table border=\"1\" class=\"dataframe\">\n",
       "  <thead>\n",
       "    <tr style=\"text-align: right;\">\n",
       "      <th></th>\n",
       "      <th>BRAND</th>\n",
       "      <th>PRODUCT DESCRIPTION</th>\n",
       "      <th>PRICE</th>\n",
       "    </tr>\n",
       "  </thead>\n",
       "  <tbody>\n",
       "    <tr>\n",
       "      <th>0</th>\n",
       "      <td>Numenzo</td>\n",
       "      <td>White Sneaker For Men Sneakers For Men</td>\n",
       "      <td>₹550</td>\n",
       "    </tr>\n",
       "    <tr>\n",
       "      <th>1</th>\n",
       "      <td>BUXBERRY</td>\n",
       "      <td>Sneakers For Men</td>\n",
       "      <td>₹490</td>\n",
       "    </tr>\n",
       "    <tr>\n",
       "      <th>2</th>\n",
       "      <td>RED TAPE</td>\n",
       "      <td>Original Luxury Branded Fashionable Men's Casual Walkin...</td>\n",
       "      <td>₹999</td>\n",
       "    </tr>\n",
       "    <tr>\n",
       "      <th>3</th>\n",
       "      <td>ASTEROID</td>\n",
       "      <td>Sneakers For Men</td>\n",
       "      <td>₹499</td>\n",
       "    </tr>\n",
       "    <tr>\n",
       "      <th>4</th>\n",
       "      <td>RED TAPE</td>\n",
       "      <td>Casuals, Canvas, Partywear Sneakers For Men</td>\n",
       "      <td>₹1,079</td>\n",
       "    </tr>\n",
       "    <tr>\n",
       "      <th>...</th>\n",
       "      <td>...</td>\n",
       "      <td>...</td>\n",
       "      <td>...</td>\n",
       "    </tr>\n",
       "    <tr>\n",
       "      <th>95</th>\n",
       "      <td>Robbie jones</td>\n",
       "      <td>Men SM-406 Grey Sneakers For Men</td>\n",
       "      <td>₹549</td>\n",
       "    </tr>\n",
       "    <tr>\n",
       "      <th>96</th>\n",
       "      <td>PUMA</td>\n",
       "      <td>Sneakers For Men</td>\n",
       "      <td>₹2,799</td>\n",
       "    </tr>\n",
       "    <tr>\n",
       "      <th>97</th>\n",
       "      <td>Mcfun</td>\n",
       "      <td>Dynamite Slip-on Sneakers For Men</td>\n",
       "      <td>₹499</td>\n",
       "    </tr>\n",
       "    <tr>\n",
       "      <th>98</th>\n",
       "      <td>EZDEZARIO</td>\n",
       "      <td>MAPF1 A3ROCAT Mid Sneakers For Men</td>\n",
       "      <td>₹549</td>\n",
       "    </tr>\n",
       "    <tr>\n",
       "      <th>99</th>\n",
       "      <td>Absolute comfort</td>\n",
       "      <td>2 Combo Sneaker Shoes Sneakers For Men</td>\n",
       "      <td>₹220</td>\n",
       "    </tr>\n",
       "  </tbody>\n",
       "</table>\n",
       "<p>100 rows × 3 columns</p>\n",
       "</div>"
      ],
      "text/plain": [
       "               BRAND  \\\n",
       "0            Numenzo   \n",
       "1           BUXBERRY   \n",
       "2           RED TAPE   \n",
       "3           ASTEROID   \n",
       "4           RED TAPE   \n",
       "..               ...   \n",
       "95      Robbie jones   \n",
       "96              PUMA   \n",
       "97             Mcfun   \n",
       "98         EZDEZARIO   \n",
       "99  Absolute comfort   \n",
       "\n",
       "                                           PRODUCT DESCRIPTION   PRICE  \n",
       "0                       White Sneaker For Men Sneakers For Men    ₹550  \n",
       "1                                             Sneakers For Men    ₹490  \n",
       "2   Original Luxury Branded Fashionable Men's Casual Walkin...    ₹999  \n",
       "3                                             Sneakers For Men    ₹499  \n",
       "4                  Casuals, Canvas, Partywear Sneakers For Men  ₹1,079  \n",
       "..                                                         ...     ...  \n",
       "95                            Men SM-406 Grey Sneakers For Men    ₹549  \n",
       "96                                            Sneakers For Men  ₹2,799  \n",
       "97                           Dynamite Slip-on Sneakers For Men    ₹499  \n",
       "98                          MAPF1 A3ROCAT Mid Sneakers For Men    ₹549  \n",
       "99                      2 Combo Sneaker Shoes Sneakers For Men    ₹220  \n",
       "\n",
       "[100 rows x 3 columns]"
      ]
     },
     "execution_count": 65,
     "metadata": {},
     "output_type": "execute_result"
    }
   ],
   "source": [
    "sneakers"
   ]
  },
  {
   "cell_type": "code",
   "execution_count": 66,
   "id": "ee39d6c2",
   "metadata": {},
   "outputs": [],
   "source": [
    "driver.quit()"
   ]
  },
  {
   "cell_type": "markdown",
   "id": "6e6d4408",
   "metadata": {},
   "source": [
    "----------------------------------------------------------------------------------------------------------------------------------------------------------------------------------------------------------------------------------------------------------------------\n",
    "Q7: Go to the link - https://www.myntra.com/shoes\n",
    "Set second Price filter and Color filter to “Black”, as shown in the below image.\n",
    "And then scrape First 100 shoes data you get. The data should include “Brand” of the shoes , Short Shoe\n",
    "description, price of the shoe as shown in the below image.\n",
    "ASSIGNMENT 2\n",
    "Note: Applying the filter and scraping the data, everything should be done through code only and there\n",
    "should not be any manual step.\n",
    " : In Case, Inspect click don’t works, Please use ctrl+shift+c to inspect the element"
   ]
  },
  {
   "cell_type": "markdown",
   "id": "27a2a936",
   "metadata": {},
   "source": [
    "--------------------GETTING THE URL---------------"
   ]
  },
  {
   "cell_type": "code",
   "execution_count": 67,
   "id": "f30da368",
   "metadata": {},
   "outputs": [],
   "source": [
    "driver=webdriver.Chrome(r'C:\\Users\\VNarayan\\Downloads\\chromedriver.exe')\n",
    "driver.maximize_window()\n",
    "\n"
   ]
  },
  {
   "cell_type": "code",
   "execution_count": 68,
   "id": "2171f201",
   "metadata": {},
   "outputs": [],
   "source": [
    "url='https://www.myntra.com/shoes'\n",
    "driver.get(url)"
   ]
  },
  {
   "cell_type": "markdown",
   "id": "da3fd9c4",
   "metadata": {},
   "source": [
    "SETTING THE PRICE FILTER \"7198 TO 14133 \""
   ]
  },
  {
   "cell_type": "code",
   "execution_count": 69,
   "id": "20418248",
   "metadata": {},
   "outputs": [],
   "source": [
    "pri_fil=driver.find_element(By.XPATH,'//ul[@class=\"price-list\"]/li[2]')\n",
    "pri_fil.click()"
   ]
  },
  {
   "cell_type": "markdown",
   "id": "4004303c",
   "metadata": {},
   "source": [
    "SETTING THE COLOR FILTER AS BLACK"
   ]
  },
  {
   "cell_type": "code",
   "execution_count": 70,
   "id": "075d55d4",
   "metadata": {},
   "outputs": [],
   "source": [
    "col_fil=driver.find_element(By.XPATH,'//li[@class=\"colour-listItem\"][1]')\n",
    "col_fil.click()"
   ]
  },
  {
   "cell_type": "markdown",
   "id": "ab960234",
   "metadata": {},
   "source": [
    "CREATING THE LISTS FOR NAME as name, FEATURE as feat , PRICE as price--------------- "
   ]
  },
  {
   "cell_type": "code",
   "execution_count": 71,
   "id": "4986b121",
   "metadata": {},
   "outputs": [],
   "source": [
    "name=[]\n",
    "feat=[]\n",
    "price=[]\n"
   ]
  },
  {
   "cell_type": "markdown",
   "id": "6019239c",
   "metadata": {},
   "source": [
    "USING SELENIUM TO CREATE LISTS OF DESIRED ELEMENTS AND USING FOR LOOP TO append the reqired details in respective lists we created above"
   ]
  },
  {
   "cell_type": "code",
   "execution_count": 72,
   "id": "e2c9b76f",
   "metadata": {},
   "outputs": [
    {
     "name": "stdout",
     "output_type": "stream",
     "text": [
      "\n",
      "\n",
      "SCRAPING PAGE-- 1\n",
      "\n",
      "\n",
      "SCRAPING PAGE-- 2\n",
      "LISTS ARE FULL\n"
     ]
    }
   ],
   "source": [
    "for i in range(1,10):\n",
    "    print(\"\\n\\nSCRAPING PAGE--\",i)\n",
    "    #creating lists of brand name ui=sing h3  and class \n",
    "    nm=driver.find_elements(By.XPATH,'//h3[@class=\"product-brand\"]')\n",
    "    for k in nm:\n",
    "        if(len(name)<100):\n",
    "            name.append(k.text)\n",
    "    #creating list of product description using XPATH AND CLASS        \n",
    "    ft=driver.find_elements(By.XPATH,'//h4[@class=\"product-product\"]')\n",
    "    for k in ft:\n",
    "        if(len(feat)<100):\n",
    "            feat.append(k.text)\n",
    "    #creating list of prics using XPATH and class tag        \n",
    "    prr=driver.find_elements(By.XPATH,\"//div[@class='product-price']\")\n",
    "    for k in prr:\n",
    "        if(len(price)<100):\n",
    "            a=k.text.split()[1]\n",
    "            t=re.findall('\\d+',a)\n",
    "            price.extend(t)\n",
    "    #checking condition if lists of full        \n",
    "    if(len(name)==100 and len(feat)==100 and len(price)==100):\n",
    "        print(\"LISTS ARE FULL\")\n",
    "        break\n",
    "    else:\n",
    "        np=driver.find_element(By.XPATH,'//li[@class=\"pagination-next\"]/a')\n",
    "        np.click()\n",
    "        time.sleep(3)\n",
    "        "
   ]
  },
  {
   "cell_type": "code",
   "execution_count": 73,
   "id": "b2813729",
   "metadata": {},
   "outputs": [],
   "source": [
    "shoes=pd.DataFrame({'BRAND':name,\"PRODUCT DESCRIPTION\":feat,\"PRICE IN RS\":price})"
   ]
  },
  {
   "cell_type": "code",
   "execution_count": 74,
   "id": "5bf9008b",
   "metadata": {},
   "outputs": [
    {
     "data": {
      "text/html": [
       "<div>\n",
       "<style scoped>\n",
       "    .dataframe tbody tr th:only-of-type {\n",
       "        vertical-align: middle;\n",
       "    }\n",
       "\n",
       "    .dataframe tbody tr th {\n",
       "        vertical-align: top;\n",
       "    }\n",
       "\n",
       "    .dataframe thead th {\n",
       "        text-align: right;\n",
       "    }\n",
       "</style>\n",
       "<table border=\"1\" class=\"dataframe\">\n",
       "  <thead>\n",
       "    <tr style=\"text-align: right;\">\n",
       "      <th></th>\n",
       "      <th>BRAND</th>\n",
       "      <th>PRODUCT DESCRIPTION</th>\n",
       "      <th>PRICE IN RS</th>\n",
       "    </tr>\n",
       "  </thead>\n",
       "  <tbody>\n",
       "    <tr>\n",
       "      <th>0</th>\n",
       "      <td>ADIDAS</td>\n",
       "      <td>Men Runner Fl Running Shoes</td>\n",
       "      <td>12749</td>\n",
       "    </tr>\n",
       "    <tr>\n",
       "      <th>1</th>\n",
       "      <td>Skechers</td>\n",
       "      <td>Men Woven Design Sneakers</td>\n",
       "      <td>7499</td>\n",
       "    </tr>\n",
       "    <tr>\n",
       "      <th>2</th>\n",
       "      <td>ADIDAS</td>\n",
       "      <td>Men Response Super 3.0 Run</td>\n",
       "      <td>8999</td>\n",
       "    </tr>\n",
       "    <tr>\n",
       "      <th>3</th>\n",
       "      <td>UNDER ARMOUR</td>\n",
       "      <td>Men HOVR SonicSE Running Shoes</td>\n",
       "      <td>9999</td>\n",
       "    </tr>\n",
       "    <tr>\n",
       "      <th>4</th>\n",
       "      <td>Skechers</td>\n",
       "      <td>Men GO WALK - TERRA Shoes</td>\n",
       "      <td>7499</td>\n",
       "    </tr>\n",
       "    <tr>\n",
       "      <th>...</th>\n",
       "      <td>...</td>\n",
       "      <td>...</td>\n",
       "      <td>...</td>\n",
       "    </tr>\n",
       "    <tr>\n",
       "      <th>95</th>\n",
       "      <td>J.FONTINI</td>\n",
       "      <td>Men Solid Loafers</td>\n",
       "      <td>8990</td>\n",
       "    </tr>\n",
       "    <tr>\n",
       "      <th>96</th>\n",
       "      <td>Tommy Hilfiger</td>\n",
       "      <td>Men Colourblocked Sneakers</td>\n",
       "      <td>8329</td>\n",
       "    </tr>\n",
       "    <tr>\n",
       "      <th>97</th>\n",
       "      <td>Geox</td>\n",
       "      <td>Men Leather Sneakers</td>\n",
       "      <td>9341</td>\n",
       "    </tr>\n",
       "    <tr>\n",
       "      <th>98</th>\n",
       "      <td>Geox</td>\n",
       "      <td>Men Leather Loafers</td>\n",
       "      <td>9341</td>\n",
       "    </tr>\n",
       "    <tr>\n",
       "      <th>99</th>\n",
       "      <td>Calvin Klein</td>\n",
       "      <td>Men Printed Leather Sneakers</td>\n",
       "      <td>7679</td>\n",
       "    </tr>\n",
       "  </tbody>\n",
       "</table>\n",
       "<p>100 rows × 3 columns</p>\n",
       "</div>"
      ],
      "text/plain": [
       "             BRAND             PRODUCT DESCRIPTION PRICE IN RS\n",
       "0           ADIDAS     Men Runner Fl Running Shoes       12749\n",
       "1         Skechers       Men Woven Design Sneakers        7499\n",
       "2           ADIDAS      Men Response Super 3.0 Run        8999\n",
       "3     UNDER ARMOUR  Men HOVR SonicSE Running Shoes        9999\n",
       "4         Skechers       Men GO WALK - TERRA Shoes        7499\n",
       "..             ...                             ...         ...\n",
       "95       J.FONTINI               Men Solid Loafers        8990\n",
       "96  Tommy Hilfiger      Men Colourblocked Sneakers        8329\n",
       "97            Geox            Men Leather Sneakers        9341\n",
       "98            Geox             Men Leather Loafers        9341\n",
       "99    Calvin Klein    Men Printed Leather Sneakers        7679\n",
       "\n",
       "[100 rows x 3 columns]"
      ]
     },
     "execution_count": 74,
     "metadata": {},
     "output_type": "execute_result"
    }
   ],
   "source": [
    "shoes"
   ]
  },
  {
   "cell_type": "code",
   "execution_count": 75,
   "id": "9e5e40e3",
   "metadata": {},
   "outputs": [],
   "source": [
    "driver.quit()"
   ]
  },
  {
   "cell_type": "markdown",
   "id": "d36371a8",
   "metadata": {},
   "source": [
    "---------------------------------------------------------------------------------------------\n",
    "\n",
    "\n",
    "\n",
    "\n",
    "\n",
    "\n",
    "\n",
    "\n",
    "\n",
    "\n",
    "\n",
    "Q8: Go to webpage https://www.amazon.in/\n",
    "Enter “Laptop” in the search field and then click the search icon.\n",
    "Then set CPU Type filter to “Intel Core i7” as shown in the below image:\n",
    "After setting the filters scrape first 10 laptops data. You have to scrape 3 attributesfor each laptop:\n",
    "1. Title\n",
    "2. Ratings\n",
    "3. Price\n",
    "ASSIGNMENT 2\n",
    "Note: All the steps required during scraping should be done through code only and not manually."
   ]
  },
  {
   "cell_type": "markdown",
   "id": "b0a3666b",
   "metadata": {},
   "source": [
    "=======================GETTING THE URL========================================"
   ]
  },
  {
   "cell_type": "code",
   "execution_count": 76,
   "id": "dcca364a",
   "metadata": {},
   "outputs": [],
   "source": [
    "\n",
    "driver=webdriver.Chrome(r'C:\\Users\\VNarayan\\Downloads\\chromedriver.exe')\n",
    "driver.maximize_window()\n"
   ]
  },
  {
   "cell_type": "code",
   "execution_count": 77,
   "id": "7530369b",
   "metadata": {},
   "outputs": [],
   "source": [
    "url=\"https://www.amazon.in/\"\n",
    "driver.get(url)"
   ]
  },
  {
   "cell_type": "markdown",
   "id": "e1544b00",
   "metadata": {},
   "source": [
    "SETTING THE SEARCH BAS AS LAPTOP-----------------"
   ]
  },
  {
   "cell_type": "code",
   "execution_count": 78,
   "id": "c36a73ee",
   "metadata": {},
   "outputs": [],
   "source": [
    "sl=driver.find_element(By.XPATH,'//input[contains(@id,\"twotab\")]')\n",
    "sl.send_keys(\"Laptop\")"
   ]
  },
  {
   "cell_type": "markdown",
   "id": "5a8815eb",
   "metadata": {},
   "source": [
    "CLICKING ON THE SEARCH ICON-----------------------------"
   ]
  },
  {
   "cell_type": "code",
   "execution_count": 79,
   "id": "7e8f5e26",
   "metadata": {},
   "outputs": [],
   "source": [
    "sg=driver.find_element(By.XPATH,'//input[@id=\"nav-search-submit-button\"]')"
   ]
  },
  {
   "cell_type": "code",
   "execution_count": 80,
   "id": "b310a7b6",
   "metadata": {},
   "outputs": [],
   "source": [
    "sg.click()"
   ]
  },
  {
   "cell_type": "markdown",
   "id": "285e76f0",
   "metadata": {},
   "source": [
    "CHECKING THE CPU TYPE -INTEL CORE I7"
   ]
  },
  {
   "cell_type": "code",
   "execution_count": 81,
   "id": "84df78a6",
   "metadata": {},
   "outputs": [],
   "source": [
    "fil_check=driver.find_element(By.XPATH,\"//li[contains(@aria-label,'i7')]/span\")\n"
   ]
  },
  {
   "cell_type": "code",
   "execution_count": 82,
   "id": "a90bd64f",
   "metadata": {},
   "outputs": [],
   "source": [
    "fil_check.click()"
   ]
  },
  {
   "cell_type": "markdown",
   "id": "ce08de2b",
   "metadata": {},
   "source": [
    "CREATING LISTS FOR TITLE AS titi, RATINGS as rats , PRICE as pc"
   ]
  },
  {
   "cell_type": "code",
   "execution_count": 83,
   "id": "3bdbbad9",
   "metadata": {},
   "outputs": [],
   "source": [
    "titi=[]\n",
    "rats=[]\n",
    "pc=[]\n"
   ]
  },
  {
   "cell_type": "markdown",
   "id": "3b1db2ac",
   "metadata": {},
   "source": [
    "USING SELENIUM TO CREATE LISTS OF DESIRED ELEMENTS AND USING FOR LOOP TO append the reqired details in respective lists we created above"
   ]
  },
  {
   "cell_type": "code",
   "execution_count": 84,
   "id": "64d6aaff",
   "metadata": {},
   "outputs": [
    {
     "name": "stdout",
     "output_type": "stream",
     "text": [
      "\n",
      "\n",
      "SCRAPING PAGE-- 1\n",
      "LISTS ARE FULL\n"
     ]
    }
   ],
   "source": [
    "for i in range(1,10):\n",
    "    print(\"\\n\\nSCRAPING PAGE--\",i)\n",
    "    # creating lists of titles using SPAN  AND CLASS\n",
    "    t=driver.find_elements(By.XPATH,\"//span[@class='a-size-medium a-color-base a-text-normal']\")\n",
    "    for k in t:\n",
    "        if(len(titi)<10):\n",
    "            titi.append(k.text)\n",
    "    # creating list of price  using span and class        \n",
    "    p=driver.find_elements(By.XPATH,\"//span[@class='a-price']\")\n",
    "    for k in p:\n",
    "        if(len(pc)<10):\n",
    "            pc.append(k.text)\n",
    "    # fetching all the data from using s card containers and saving it in haha list\n",
    "    #fetching all the ratings from the list we created in haha and appending it in ra\n",
    "    haha=driver.find_elements(By.XPATH,'//div[@class=\"s-card-container s-overflow-hidden aok-relative puis-include-content-margin puis s-latency-cf-section s-card-border\"]')\n",
    "    ra=driver.find_elements(By.XPATH,\"//div[@class='a-row a-size-small']/span\")\n",
    "    for x in haha:\n",
    "        link=x.find_elements(By.XPATH,\"*//div[@class='a-row a-size-small']/span\")\n",
    "        if(link!=[]):\n",
    "            ri=link[0].get_attribute('aria-label')\n",
    "        else:\n",
    "            ri='NOT AVAILABLE'\n",
    "        if(len(rats)<10):\n",
    "            rats.append(ri)\n",
    "    if (len(titi)==10 and len(pc)==10 and len(rats)==10):\n",
    "        print('LISTS ARE FULL')\n",
    "        break\n",
    "        \n",
    "        \n",
    "    \n",
    "            \n",
    "        \n",
    "    "
   ]
  },
  {
   "cell_type": "code",
   "execution_count": 85,
   "id": "591d2924",
   "metadata": {},
   "outputs": [],
   "source": [
    "laptop=pd.DataFrame({\"TITLE\":titi,\"PRICE\":pc,\"RATINGS\":rats})"
   ]
  },
  {
   "cell_type": "code",
   "execution_count": 86,
   "id": "832acd54",
   "metadata": {},
   "outputs": [
    {
     "data": {
      "text/html": [
       "<div>\n",
       "<style scoped>\n",
       "    .dataframe tbody tr th:only-of-type {\n",
       "        vertical-align: middle;\n",
       "    }\n",
       "\n",
       "    .dataframe tbody tr th {\n",
       "        vertical-align: top;\n",
       "    }\n",
       "\n",
       "    .dataframe thead th {\n",
       "        text-align: right;\n",
       "    }\n",
       "</style>\n",
       "<table border=\"1\" class=\"dataframe\">\n",
       "  <thead>\n",
       "    <tr style=\"text-align: right;\">\n",
       "      <th></th>\n",
       "      <th>TITLE</th>\n",
       "      <th>PRICE</th>\n",
       "      <th>RATINGS</th>\n",
       "    </tr>\n",
       "  </thead>\n",
       "  <tbody>\n",
       "    <tr>\n",
       "      <th>0</th>\n",
       "      <td>Samsung Galaxy Book2 Pro Intel 12th Gen i7 EvoTM 39.62cm (15.6\") AMOLED Thin &amp; Light Laptop (16 GB/512 GB SSD/Windows 11/MS Office/Backlit KB/Fingerprint Sensor/Graphite/1.11Kg), NP950XED-KA1IN</td>\n",
       "      <td>₹1,11,000</td>\n",
       "      <td>3.5 out of 5 stars</td>\n",
       "    </tr>\n",
       "    <tr>\n",
       "      <th>1</th>\n",
       "      <td>Samsung Galaxy Book2 360 Intel 12th Gen i7 EvoTM 33.78cm (13.3\") AMOLED 2 in 1 Touch Screen Laptop (16 GB/512 GB SSD/Windows 11/MS Office/Backlit KB/Fingerprint Sensor/Graphite/1.16Kg), NP730QED-K...</td>\n",
       "      <td>₹97,990</td>\n",
       "      <td>4.0 out of 5 stars</td>\n",
       "    </tr>\n",
       "    <tr>\n",
       "      <th>2</th>\n",
       "      <td>Lenovo IdeaPad Slim 5 12th Gen Intel Core i7 15.6\"(39.62cm) FHD IPS Laptop (16GB/512GB SSD/Win 11/Office 2021/Backlit KB/Fingerprint/FHD Camera/Alexa/3 Month Game Pass/Storm Grey/1.85Kg), 82SF004XIN</td>\n",
       "      <td>₹83,990</td>\n",
       "      <td>4.3 out of 5 stars</td>\n",
       "    </tr>\n",
       "    <tr>\n",
       "      <th>3</th>\n",
       "      <td>HP Pavilion x360 11th Gen Intel Core i7 14 inch(35.6 cm) FHD,IPS, Multitouch 2-in-1 Laptop(16GB RAM/512GB SSD/Backlit KB/Intel Iris Xe Graphics/Pen/Alexa Built-in/MSO/1.52Kg) 14-dy1050TU, Spruce Blue</td>\n",
       "      <td>₹80,990</td>\n",
       "      <td>4.5 out of 5 stars</td>\n",
       "    </tr>\n",
       "    <tr>\n",
       "      <th>4</th>\n",
       "      <td>Acer Nitro 5 Gaming Laptop Intel core i7 11th Gen (16 GB/ 512 GB SSD/ NVIDIA® GeForce RTX 3050 Ti/ Windows 11 Home/144hz) AN515-57 with 39.6 cm (15.6 inches) IPS Display / 2.2 Kgs</td>\n",
       "      <td>₹82,990</td>\n",
       "      <td>3.8 out of 5 stars</td>\n",
       "    </tr>\n",
       "    <tr>\n",
       "      <th>5</th>\n",
       "      <td>Lenovo ThinkBook 15 Intel 11th Gen Core i7 15.6\"(39.62 cm) FHD Thin and Light Laptop (16GB/512GB SSD/Windows 11 Home/MS Office H&amp;S 2021/Iris® Xe Graphics/Backlit/Mineral Grey/1.7 Kg) 20VE00W4IH</td>\n",
       "      <td>₹80,900</td>\n",
       "      <td>3.6 out of 5 stars</td>\n",
       "    </tr>\n",
       "    <tr>\n",
       "      <th>6</th>\n",
       "      <td>Samsung Galaxy Book2 360 Intel 12th Gen i7 EvoTM 33.78cm (13.3\") AMOLED 2 in 1 Touch Screen Laptop (16 GB/512 GB SSD/Windows 11/MS Office/Backlit KB/Fingerprint Sensor/Graphite/1.16Kg), NP730QED-K...</td>\n",
       "      <td>₹97,990</td>\n",
       "      <td>4.0 out of 5 stars</td>\n",
       "    </tr>\n",
       "    <tr>\n",
       "      <th>7</th>\n",
       "      <td>HP Envy x360 12th Gen Intel Core i7-13.3 inch(33.8 cm) OLED Multi-Touch Gorilla Glass 2-in-1 Laptop(16GB RAM/1TB SSD/400 nits/Win 11/Intel Iris Xe Graphics/Alexa/B&amp;O/Zenvo Pen/MSO/1.32Kg)13 bf0063TU</td>\n",
       "      <td>₹1,13,700</td>\n",
       "      <td>NOT AVAILABLE</td>\n",
       "    </tr>\n",
       "    <tr>\n",
       "      <th>8</th>\n",
       "      <td>Fujitsu UH-X 11th Gen Intel Core i7 13.3” FHD IPS 400Nits Thin &amp; Light Laptop(16GB/512GB SSD/Windows 11/Office 2021/Iris Xe Graphics/Backlit Kb/Fingerprint Reader/2Yr Warranty/Black/878gms),4ZR1F3...</td>\n",
       "      <td>₹81,490</td>\n",
       "      <td>4.3 out of 5 stars</td>\n",
       "    </tr>\n",
       "    <tr>\n",
       "      <th>9</th>\n",
       "      <td>Dell Inspiron 5320 Laptop, i7-1260P, 16GB LPDDR5, 512GB SSD, Integrated, 13.3\" (33.78Cms) QHD+ WVA AG 300 nits, Win 11+ MSO'21, Platinum Silver (D560754WIN9S, 1.25Kgs)</td>\n",
       "      <td>₹84,407</td>\n",
       "      <td>NOT AVAILABLE</td>\n",
       "    </tr>\n",
       "  </tbody>\n",
       "</table>\n",
       "</div>"
      ],
      "text/plain": [
       "                                                                                                                                                                                                     TITLE  \\\n",
       "0        Samsung Galaxy Book2 Pro Intel 12th Gen i7 EvoTM 39.62cm (15.6\") AMOLED Thin & Light Laptop (16 GB/512 GB SSD/Windows 11/MS Office/Backlit KB/Fingerprint Sensor/Graphite/1.11Kg), NP950XED-KA1IN   \n",
       "1  Samsung Galaxy Book2 360 Intel 12th Gen i7 EvoTM 33.78cm (13.3\") AMOLED 2 in 1 Touch Screen Laptop (16 GB/512 GB SSD/Windows 11/MS Office/Backlit KB/Fingerprint Sensor/Graphite/1.16Kg), NP730QED-K...   \n",
       "2   Lenovo IdeaPad Slim 5 12th Gen Intel Core i7 15.6\"(39.62cm) FHD IPS Laptop (16GB/512GB SSD/Win 11/Office 2021/Backlit KB/Fingerprint/FHD Camera/Alexa/3 Month Game Pass/Storm Grey/1.85Kg), 82SF004XIN   \n",
       "3  HP Pavilion x360 11th Gen Intel Core i7 14 inch(35.6 cm) FHD,IPS, Multitouch 2-in-1 Laptop(16GB RAM/512GB SSD/Backlit KB/Intel Iris Xe Graphics/Pen/Alexa Built-in/MSO/1.52Kg) 14-dy1050TU, Spruce Blue   \n",
       "4                      Acer Nitro 5 Gaming Laptop Intel core i7 11th Gen (16 GB/ 512 GB SSD/ NVIDIA® GeForce RTX 3050 Ti/ Windows 11 Home/144hz) AN515-57 with 39.6 cm (15.6 inches) IPS Display / 2.2 Kgs   \n",
       "5        Lenovo ThinkBook 15 Intel 11th Gen Core i7 15.6\"(39.62 cm) FHD Thin and Light Laptop (16GB/512GB SSD/Windows 11 Home/MS Office H&S 2021/Iris® Xe Graphics/Backlit/Mineral Grey/1.7 Kg) 20VE00W4IH   \n",
       "6  Samsung Galaxy Book2 360 Intel 12th Gen i7 EvoTM 33.78cm (13.3\") AMOLED 2 in 1 Touch Screen Laptop (16 GB/512 GB SSD/Windows 11/MS Office/Backlit KB/Fingerprint Sensor/Graphite/1.16Kg), NP730QED-K...   \n",
       "7   HP Envy x360 12th Gen Intel Core i7-13.3 inch(33.8 cm) OLED Multi-Touch Gorilla Glass 2-in-1 Laptop(16GB RAM/1TB SSD/400 nits/Win 11/Intel Iris Xe Graphics/Alexa/B&O/Zenvo Pen/MSO/1.32Kg)13 bf0063TU   \n",
       "8  Fujitsu UH-X 11th Gen Intel Core i7 13.3” FHD IPS 400Nits Thin & Light Laptop(16GB/512GB SSD/Windows 11/Office 2021/Iris Xe Graphics/Backlit Kb/Fingerprint Reader/2Yr Warranty/Black/878gms),4ZR1F3...   \n",
       "9                                  Dell Inspiron 5320 Laptop, i7-1260P, 16GB LPDDR5, 512GB SSD, Integrated, 13.3\" (33.78Cms) QHD+ WVA AG 300 nits, Win 11+ MSO'21, Platinum Silver (D560754WIN9S, 1.25Kgs)   \n",
       "\n",
       "       PRICE             RATINGS  \n",
       "0  ₹1,11,000  3.5 out of 5 stars  \n",
       "1    ₹97,990  4.0 out of 5 stars  \n",
       "2    ₹83,990  4.3 out of 5 stars  \n",
       "3    ₹80,990  4.5 out of 5 stars  \n",
       "4    ₹82,990  3.8 out of 5 stars  \n",
       "5    ₹80,900  3.6 out of 5 stars  \n",
       "6    ₹97,990  4.0 out of 5 stars  \n",
       "7  ₹1,13,700       NOT AVAILABLE  \n",
       "8    ₹81,490  4.3 out of 5 stars  \n",
       "9    ₹84,407       NOT AVAILABLE  "
      ]
     },
     "execution_count": 86,
     "metadata": {},
     "output_type": "execute_result"
    }
   ],
   "source": [
    "laptop"
   ]
  },
  {
   "cell_type": "code",
   "execution_count": 87,
   "id": "23f091f3",
   "metadata": {},
   "outputs": [],
   "source": [
    "driver.quit()"
   ]
  },
  {
   "cell_type": "markdown",
   "id": "ec5169ac",
   "metadata": {},
   "source": [
    "-----------------------------------------------------------------------------------------------------------------------------------------------------------------------------------------------------------------------"
   ]
  },
  {
   "cell_type": "markdown",
   "id": "272e76e8",
   "metadata": {},
   "source": [
    "\n",
    "\n",
    "\n",
    "\n",
    "Q9: Write a python program to scrape data for Top 1000 Quotes of All Time.\n",
    " The above task will be done in following steps:\n",
    " 1.First get the webpage https://www.azquotes.com/\n",
    " 2. Click on Top Quotes\n",
    " 3. Than scrap a) Quote b) Author c) Type Of Quote\n"
   ]
  },
  {
   "cell_type": "markdown",
   "id": "d19f383f",
   "metadata": {},
   "source": [
    "GETTING THE URL--------------------------"
   ]
  },
  {
   "cell_type": "code",
   "execution_count": 88,
   "id": "7a4f16ee",
   "metadata": {},
   "outputs": [],
   "source": [
    "\n",
    "driver=webdriver.Chrome(r'C:\\Users\\VNarayan\\Downloads\\chromedriver.exe')\n",
    "driver.maximize_window()\n"
   ]
  },
  {
   "cell_type": "code",
   "execution_count": 89,
   "id": "1f0d9430",
   "metadata": {},
   "outputs": [],
   "source": [
    "url=\"https://www.azquotes.com/\"\n",
    "driver.get(url)"
   ]
  },
  {
   "cell_type": "markdown",
   "id": "2e6ac889",
   "metadata": {},
   "source": [
    "CLICKING ON THE TOP QUOTES ON THE PAGE--------------"
   ]
  },
  {
   "cell_type": "code",
   "execution_count": 90,
   "id": "abbc54c8",
   "metadata": {},
   "outputs": [],
   "source": [
    "st=driver.find_element(By.XPATH,\"/html/body/div[1]/div[1]/div[1]/div/div[3]/ul/li[5]\")"
   ]
  },
  {
   "cell_type": "code",
   "execution_count": 91,
   "id": "96a0b680",
   "metadata": {},
   "outputs": [],
   "source": [
    "st.click()"
   ]
  },
  {
   "cell_type": "markdown",
   "id": "b3da23ad",
   "metadata": {},
   "source": [
    "CREATING LISTS FOR QUOTES AS quote , AUTHOR as author , TYPE OF QUOTE AS typ-------------------"
   ]
  },
  {
   "cell_type": "code",
   "execution_count": 92,
   "id": "afbf031c",
   "metadata": {},
   "outputs": [],
   "source": [
    "quote=[]\n",
    "author=[]\n",
    "typ=[]\n"
   ]
  },
  {
   "cell_type": "markdown",
   "id": "860236da",
   "metadata": {},
   "source": [
    "USING SELENIUM TO CREATE LISTS OF DESIRED ELEMENTS AND USING FOR LOOP TO append the reqired details in respective lists we created above"
   ]
  },
  {
   "cell_type": "code",
   "execution_count": 93,
   "id": "a0809c5b",
   "metadata": {},
   "outputs": [
    {
     "name": "stdout",
     "output_type": "stream",
     "text": [
      "SCRAPING PAGE ---- 1\n",
      "SCRAPING PAGE ---- 2\n",
      "SCRAPING PAGE ---- 3\n",
      "SCRAPING PAGE ---- 4\n",
      "SCRAPING PAGE ---- 5\n",
      "SCRAPING PAGE ---- 6\n",
      "SCRAPING PAGE ---- 7\n",
      "SCRAPING PAGE ---- 8\n",
      "SCRAPING PAGE ---- 9\n",
      "SCRAPING PAGE ---- 10\n",
      "LIST FULL\n"
     ]
    }
   ],
   "source": [
    "for i in range(1,20):\n",
    "    print(\"SCRAPING PAGE ----\",i)\n",
    "    # fetching all quotes and appending it in qu\n",
    "    qu=driver.find_elements(By.XPATH,\"//a[@class='title']\")\n",
    "    for k in qu:\n",
    "        if(len(quote)<1000):\n",
    "            quote.append(k.text)\n",
    "    # fetching all the AUTHORS and appending it in au       \n",
    "    au=driver.find_elements(By.XPATH,\"//div[@class='author']/a\")\n",
    "    for k in au:\n",
    "        if(len(author)<1000):\n",
    "            author.append(k.text)\n",
    "    # fetvhing all the quote_types and appending it in ty\n",
    "    ty=driver.find_elements(By.XPATH,\"//div[@class='tags']\")\n",
    "    for k in ty:\n",
    "        if(len(typ)<1000):\n",
    "            typ.append(k.text)\n",
    "    # checking conditions if lists are full\n",
    "    \n",
    "    if(len(quote)==1000 and len(author)==1000 and len(typ)==1000):\n",
    "        print(\"LIST FULL\")\n",
    "        break\n",
    "    else:\n",
    "        nt=driver.find_element(By.XPATH,\"/html/body/div[1]/div[2]/div/div/div/div[1]/div/div[3]/li[12]\")\n",
    "        nt.click()\n",
    "        time.sleep(3)\n",
    "        \n",
    "            \n",
    "            \n",
    "    \n",
    "    "
   ]
  },
  {
   "cell_type": "code",
   "execution_count": 94,
   "id": "ba76ffc2",
   "metadata": {},
   "outputs": [],
   "source": [
    "quo=pd.DataFrame({'QUOTE':quote,\"AUTHOR\":author,\"QUOTE_TYPE\":typ})"
   ]
  },
  {
   "cell_type": "code",
   "execution_count": 95,
   "id": "cf925848",
   "metadata": {},
   "outputs": [
    {
     "data": {
      "text/html": [
       "<div>\n",
       "<style scoped>\n",
       "    .dataframe tbody tr th:only-of-type {\n",
       "        vertical-align: middle;\n",
       "    }\n",
       "\n",
       "    .dataframe tbody tr th {\n",
       "        vertical-align: top;\n",
       "    }\n",
       "\n",
       "    .dataframe thead th {\n",
       "        text-align: right;\n",
       "    }\n",
       "</style>\n",
       "<table border=\"1\" class=\"dataframe\">\n",
       "  <thead>\n",
       "    <tr style=\"text-align: right;\">\n",
       "      <th></th>\n",
       "      <th>QUOTE</th>\n",
       "      <th>AUTHOR</th>\n",
       "      <th>QUOTE_TYPE</th>\n",
       "    </tr>\n",
       "  </thead>\n",
       "  <tbody>\n",
       "    <tr>\n",
       "      <th>0</th>\n",
       "      <td>The essence of strategy is choosing what not to do.</td>\n",
       "      <td>Michael Porter</td>\n",
       "      <td>Essence, Deep Thought, Transcendentalism</td>\n",
       "    </tr>\n",
       "    <tr>\n",
       "      <th>1</th>\n",
       "      <td>One cannot and must not try to erase the past merely because it does not fit the present.</td>\n",
       "      <td>Golda Meir</td>\n",
       "      <td>Inspiration, Past, Trying</td>\n",
       "    </tr>\n",
       "    <tr>\n",
       "      <th>2</th>\n",
       "      <td>Patriotism means to stand by the country. It does not mean to stand by the president.</td>\n",
       "      <td>Theodore Roosevelt</td>\n",
       "      <td>Country, Peace, War</td>\n",
       "    </tr>\n",
       "    <tr>\n",
       "      <th>3</th>\n",
       "      <td>Death is something inevitable. When a man has done what he considers to be his duty to his people and his country, he can rest in peace. I believe I have made that effort and that is, therefore, w...</td>\n",
       "      <td>Nelson Mandela</td>\n",
       "      <td>Inspirational, Motivational, Death</td>\n",
       "    </tr>\n",
       "    <tr>\n",
       "      <th>4</th>\n",
       "      <td>You have to love a nation that celebrates its independence every July 4, not with a parade of guns, tanks, and soldiers who file by the White House in a show of strength and muscle, but with famil...</td>\n",
       "      <td>Erma Bombeck</td>\n",
       "      <td>4th Of July, Food, Patriotic</td>\n",
       "    </tr>\n",
       "    <tr>\n",
       "      <th>...</th>\n",
       "      <td>...</td>\n",
       "      <td>...</td>\n",
       "      <td>...</td>\n",
       "    </tr>\n",
       "    <tr>\n",
       "      <th>995</th>\n",
       "      <td>Regret for the things we did can be tempered by time; it is regret for the things we did not do that is inconsolable.</td>\n",
       "      <td>Sydney J. Harris</td>\n",
       "      <td>Love, Inspirational, Motivational</td>\n",
       "    </tr>\n",
       "    <tr>\n",
       "      <th>996</th>\n",
       "      <td>America... just a nation of two hundred million used car salesmen with all the money we need to buy guns and no qualms about killing anybody else in the world who tries to make us uncomfortable.</td>\n",
       "      <td>Hunter S. Thompson</td>\n",
       "      <td>Gun, Two, Qualms About</td>\n",
       "    </tr>\n",
       "    <tr>\n",
       "      <th>997</th>\n",
       "      <td>For every disciplined effort there is a multiple reward.</td>\n",
       "      <td>Jim Rohn</td>\n",
       "      <td>Inspirational, Greatness, Best Effort</td>\n",
       "    </tr>\n",
       "    <tr>\n",
       "      <th>998</th>\n",
       "      <td>The spiritual journey is individual, highly personal. It can't be organized or regulated. It isn't true that everyone should follow one path. Listen to your own truth.</td>\n",
       "      <td>Ram Dass</td>\n",
       "      <td>Spiritual, Truth, Yoga</td>\n",
       "    </tr>\n",
       "    <tr>\n",
       "      <th>999</th>\n",
       "      <td>No matter how plain a woman may be, if truth and honesty are written across her face, she will be beautiful.</td>\n",
       "      <td>Eleanor Roosevelt</td>\n",
       "      <td>Beauty, Beautiful, Truth</td>\n",
       "    </tr>\n",
       "  </tbody>\n",
       "</table>\n",
       "<p>1000 rows × 3 columns</p>\n",
       "</div>"
      ],
      "text/plain": [
       "                                                                                                                                                                                                       QUOTE  \\\n",
       "0                                                                                                                                                        The essence of strategy is choosing what not to do.   \n",
       "1                                                                                                                  One cannot and must not try to erase the past merely because it does not fit the present.   \n",
       "2                                                                                                                      Patriotism means to stand by the country. It does not mean to stand by the president.   \n",
       "3    Death is something inevitable. When a man has done what he considers to be his duty to his people and his country, he can rest in peace. I believe I have made that effort and that is, therefore, w...   \n",
       "4    You have to love a nation that celebrates its independence every July 4, not with a parade of guns, tanks, and soldiers who file by the White House in a show of strength and muscle, but with famil...   \n",
       "..                                                                                                                                                                                                       ...   \n",
       "995                                                                                    Regret for the things we did can be tempered by time; it is regret for the things we did not do that is inconsolable.   \n",
       "996       America... just a nation of two hundred million used car salesmen with all the money we need to buy guns and no qualms about killing anybody else in the world who tries to make us uncomfortable.   \n",
       "997                                                                                                                                                 For every disciplined effort there is a multiple reward.   \n",
       "998                                  The spiritual journey is individual, highly personal. It can't be organized or regulated. It isn't true that everyone should follow one path. Listen to your own truth.   \n",
       "999                                                                                             No matter how plain a woman may be, if truth and honesty are written across her face, she will be beautiful.   \n",
       "\n",
       "                 AUTHOR                                QUOTE_TYPE  \n",
       "0        Michael Porter  Essence, Deep Thought, Transcendentalism  \n",
       "1            Golda Meir                 Inspiration, Past, Trying  \n",
       "2    Theodore Roosevelt                       Country, Peace, War  \n",
       "3        Nelson Mandela        Inspirational, Motivational, Death  \n",
       "4          Erma Bombeck              4th Of July, Food, Patriotic  \n",
       "..                  ...                                       ...  \n",
       "995    Sydney J. Harris         Love, Inspirational, Motivational  \n",
       "996  Hunter S. Thompson                    Gun, Two, Qualms About  \n",
       "997            Jim Rohn     Inspirational, Greatness, Best Effort  \n",
       "998            Ram Dass                    Spiritual, Truth, Yoga  \n",
       "999   Eleanor Roosevelt                  Beauty, Beautiful, Truth  \n",
       "\n",
       "[1000 rows x 3 columns]"
      ]
     },
     "execution_count": 95,
     "metadata": {},
     "output_type": "execute_result"
    }
   ],
   "source": [
    "quo"
   ]
  },
  {
   "cell_type": "code",
   "execution_count": 96,
   "id": "28bb6dd1",
   "metadata": {},
   "outputs": [],
   "source": [
    "driver.quit()"
   ]
  },
  {
   "cell_type": "markdown",
   "id": "15e81e83",
   "metadata": {},
   "source": [
    "----------------------------------------------------------------------------------------------------------------------------------------------------------------------------------------------------------------------------------------------------------------------------------------------------------------------------------------------------------------------------------------------------------------------------------------------------------------------------------------------------------------------------------------------------------------------------------------------------------------------------------------------------------------\n",
    "\n",
    "\n",
    "Q10: Write s python program to display list of respected former Prime Ministers of India(i.e. Name, Born-Dead, \n",
    "Term of office, Remarks) from https://www.jagranjosh.com/.\n",
    "This task will be done in following steps:\n",
    "1. First get the webpage https://www.jagranjosh.com/\n",
    "2. Then You have to click on the GK option\n",
    "3. Then click on the List of all Prime Ministers of India\n",
    "4. Then scrap the mentioned data and make the DataFrame."
   ]
  },
  {
   "cell_type": "markdown",
   "id": "940d6927",
   "metadata": {},
   "source": [
    "GETTING THE URLs----------------------------------------------"
   ]
  },
  {
   "cell_type": "code",
   "execution_count": 97,
   "id": "81d18b7f",
   "metadata": {},
   "outputs": [],
   "source": [
    "\n",
    "driver=webdriver.Chrome(r'C:\\Users\\VNarayan\\Downloads\\chromedriver.exe')\n",
    "driver.maximize_window()"
   ]
  },
  {
   "cell_type": "code",
   "execution_count": 98,
   "id": "11b8acc9",
   "metadata": {},
   "outputs": [],
   "source": [
    "url=\"https://www.jagranjosh.com/\"\n",
    "driver.get(url)"
   ]
  },
  {
   "cell_type": "markdown",
   "id": "e326495a",
   "metadata": {},
   "source": [
    "CLICKING ON THE GK TAB-----------------------------------"
   ]
  },
  {
   "cell_type": "code",
   "execution_count": 99,
   "id": "d6e30264",
   "metadata": {},
   "outputs": [],
   "source": [
    "gkt=driver.find_element(By.XPATH,\"/html/body/div/div[1]/div/div[1]/div/div[6]/div/div[1]/header/div[3]/ul/li[9]/a\")"
   ]
  },
  {
   "cell_type": "code",
   "execution_count": 100,
   "id": "9c0f08cb",
   "metadata": {},
   "outputs": [],
   "source": [
    "gkt.click()"
   ]
  },
  {
   "cell_type": "markdown",
   "id": "4a80a504",
   "metadata": {},
   "source": [
    "CLICKING ON THE LISTS OF ALL PRIME MINISTERS OF INDIA TAB"
   ]
  },
  {
   "cell_type": "code",
   "execution_count": 101,
   "id": "99ecc4cd",
   "metadata": {},
   "outputs": [],
   "source": [
    "lis_click=driver.find_element(By.XPATH,\"/html/body/div[1]/div/div/div[2]/div/div[10]/div/div/ul/li[2]/a\")\n",
    "lis_click.click()"
   ]
  },
  {
   "cell_type": "markdown",
   "id": "af75a78a",
   "metadata": {},
   "source": [
    "CREATING LISTS FOR SERIAL NO as sn , NAME as name, BORN-DEAD  as born_dead, TERM OF OFFICE AS term_of_office ,REMARK as remark"
   ]
  },
  {
   "cell_type": "code",
   "execution_count": 102,
   "id": "422c7cbb",
   "metadata": {},
   "outputs": [],
   "source": [
    "sn=[]\n",
    "name=[]\n",
    "born_dead=[]\n",
    "term_of_office=[]\n",
    "remark=[]"
   ]
  },
  {
   "cell_type": "markdown",
   "id": "e8148091",
   "metadata": {},
   "source": [
    "USING SELENIUM TO GENERATE LISTS OF REQUIRED TABLE AND USING STRING FORMATTING AND STRING SLICING TO APPEND OUR LISTS WHICH WE CREATED ABOVE"
   ]
  },
  {
   "cell_type": "code",
   "execution_count": 103,
   "id": "09aefaed",
   "metadata": {},
   "outputs": [],
   "source": [
    "#fetching all the elements and appending it in lis\n",
    "df=driver.find_elements(By.XPATH,'//div[@class=\"table-box\"][1]/table/tbody/tr')\n",
    "lis=[]\n",
    "new=[]\n",
    "for i in df:\n",
    "    # formatting the strings and splitting in new line\n",
    "    li=i.text.split('\\n')\n",
    "    lis.append(li)"
   ]
  },
  {
   "cell_type": "code",
   "execution_count": 104,
   "id": "8dd5226f",
   "metadata": {},
   "outputs": [],
   "source": [
    "lis=lis[1:]"
   ]
  },
  {
   "cell_type": "code",
   "execution_count": 105,
   "id": "4abedbc3",
   "metadata": {},
   "outputs": [],
   "source": [
    "for i in lis:\n",
    "    # appending serial numbers in sn\n",
    "    #appending names in name\n",
    "    #appending born-dead in born_dead\n",
    "    sn.append(i[0])\n",
    "    name.append(i[1])\n",
    "    born_dead.append(i[2])\n",
    "    # condition for appending in term_of_office and remark\n",
    "    if(len(i)==5):\n",
    "        term_of_office.append(i[3])\n",
    "        remark.append(i[4])\n",
    "    else:\n",
    "        term_of_office.append(i[3:5])\n",
    "        remark.append(i[5])"
   ]
  },
  {
   "cell_type": "code",
   "execution_count": 106,
   "id": "672648b3",
   "metadata": {},
   "outputs": [],
   "source": [
    "PRIME_MINISTERS=pd.DataFrame({\"SERIAL_NUMBER\":sn,\"NAME\":name,\"BORN-DEAD\":born_dead,\"TERM OF OFFICE\":term_of_office,\"REMARK\":remark})"
   ]
  },
  {
   "cell_type": "code",
   "execution_count": 107,
   "id": "c7554f8b",
   "metadata": {},
   "outputs": [],
   "source": [
    "PRIME_MINISTERS.set_index(['SERIAL_NUMBER'],inplace=True)"
   ]
  },
  {
   "cell_type": "code",
   "execution_count": 108,
   "id": "84f1e10a",
   "metadata": {},
   "outputs": [
    {
     "data": {
      "text/html": [
       "<div>\n",
       "<style scoped>\n",
       "    .dataframe tbody tr th:only-of-type {\n",
       "        vertical-align: middle;\n",
       "    }\n",
       "\n",
       "    .dataframe tbody tr th {\n",
       "        vertical-align: top;\n",
       "    }\n",
       "\n",
       "    .dataframe thead th {\n",
       "        text-align: right;\n",
       "    }\n",
       "</style>\n",
       "<table border=\"1\" class=\"dataframe\">\n",
       "  <thead>\n",
       "    <tr style=\"text-align: right;\">\n",
       "      <th></th>\n",
       "      <th>NAME</th>\n",
       "      <th>BORN-DEAD</th>\n",
       "      <th>TERM OF OFFICE</th>\n",
       "      <th>REMARK</th>\n",
       "    </tr>\n",
       "    <tr>\n",
       "      <th>SERIAL_NUMBER</th>\n",
       "      <th></th>\n",
       "      <th></th>\n",
       "      <th></th>\n",
       "      <th></th>\n",
       "    </tr>\n",
       "  </thead>\n",
       "  <tbody>\n",
       "    <tr>\n",
       "      <th>1.</th>\n",
       "      <td>Jawahar Lal Nehru</td>\n",
       "      <td>(1889–1964)</td>\n",
       "      <td>[15 August 1947 to 27 May 1964, 16 years, 286 days]</td>\n",
       "      <td>The first prime minister of India and the longest-serving PM of India, the first to die in office.</td>\n",
       "    </tr>\n",
       "    <tr>\n",
       "      <th>2.</th>\n",
       "      <td>Gulzarilal Nanda (Acting)</td>\n",
       "      <td>(1898-1998)</td>\n",
       "      <td>[27 May 1964 to 9 June 1964,, 13 days]</td>\n",
       "      <td>First acting PM of India</td>\n",
       "    </tr>\n",
       "    <tr>\n",
       "      <th>3.</th>\n",
       "      <td>Lal Bahadur Shastri</td>\n",
       "      <td>(1904–1966)</td>\n",
       "      <td>[9 June 1964 to 11 January 1966, 1 year, 216 days]</td>\n",
       "      <td>He has given the slogan of 'Jai Jawan Jai Kisan' during the Indo-Pak war of 1965</td>\n",
       "    </tr>\n",
       "    <tr>\n",
       "      <th>4.</th>\n",
       "      <td>Gulzari Lal Nanda  (Acting)</td>\n",
       "      <td>(1898-1998)</td>\n",
       "      <td>[11 January 1966 to 24 January 1966, 13 days]</td>\n",
       "      <td>-</td>\n",
       "    </tr>\n",
       "    <tr>\n",
       "      <th>5.</th>\n",
       "      <td>Indira Gandhi</td>\n",
       "      <td>(1917–1984)</td>\n",
       "      <td>[24 January 1966 to 24 March 1977, 11 years, 59 days]</td>\n",
       "      <td>First female Prime Minister of India</td>\n",
       "    </tr>\n",
       "    <tr>\n",
       "      <th>6.</th>\n",
       "      <td>Morarji Desai</td>\n",
       "      <td>(1896–1995)</td>\n",
       "      <td>[24 March 1977 to  28 July 1979 , 2 year, 126 days]</td>\n",
       "      <td>Oldest to become PM (81 years old) and first to resign from office</td>\n",
       "    </tr>\n",
       "    <tr>\n",
       "      <th>7.</th>\n",
       "      <td>Charan Singh</td>\n",
       "      <td>(1902–1987)</td>\n",
       "      <td>[28 July 1979 to 14 January 1980, 170 days]</td>\n",
       "      <td>Only PM who did not face the Parliament</td>\n",
       "    </tr>\n",
       "    <tr>\n",
       "      <th>8.</th>\n",
       "      <td>Indira Gandhi</td>\n",
       "      <td>(1917–1984)</td>\n",
       "      <td>[14 January 1980 to 31 October 1984, 4 years, 291 days]</td>\n",
       "      <td>The first lady who served as PM for the second term</td>\n",
       "    </tr>\n",
       "    <tr>\n",
       "      <th>9.</th>\n",
       "      <td>Rajiv Gandhi</td>\n",
       "      <td>(1944–1991)</td>\n",
       "      <td>[31 October 1984 to 2 December 1989, 5 years, 32 days]</td>\n",
       "      <td>Youngest to become PM (40 years old)</td>\n",
       "    </tr>\n",
       "    <tr>\n",
       "      <th>10.</th>\n",
       "      <td>V. P. Singh</td>\n",
       "      <td>(1931–2008)</td>\n",
       "      <td>[2 December 1989 to 10 November 1990, 343 days]</td>\n",
       "      <td>First PM to step down after a vote of no confidence</td>\n",
       "    </tr>\n",
       "    <tr>\n",
       "      <th>11.</th>\n",
       "      <td>Chandra Shekhar</td>\n",
       "      <td>(1927–2007)</td>\n",
       "      <td>[10 November 1990 to 21 June 1991, 223 days]</td>\n",
       "      <td>He belongs to  Samajwadi Janata Party</td>\n",
       "    </tr>\n",
       "    <tr>\n",
       "      <th>12.</th>\n",
       "      <td>P. V. Narasimha Rao</td>\n",
       "      <td>(1921–2004)</td>\n",
       "      <td>[21 June 1991 to 16 May 1996, 4 years, 330 days]</td>\n",
       "      <td>First PM from south India</td>\n",
       "    </tr>\n",
       "    <tr>\n",
       "      <th>13.</th>\n",
       "      <td>Atal Bihari Vajpayee</td>\n",
       "      <td>(1924- 2018)</td>\n",
       "      <td>[16 May 1996 to 1 June 1996, 16 days]</td>\n",
       "      <td>PM for shortest tenure</td>\n",
       "    </tr>\n",
       "    <tr>\n",
       "      <th>14.</th>\n",
       "      <td>H. D. Deve Gowda</td>\n",
       "      <td>(born 1933)</td>\n",
       "      <td>[1 June 1996 to 21 April 1997, 324 days]</td>\n",
       "      <td>He belongs to  Janata Dal</td>\n",
       "    </tr>\n",
       "    <tr>\n",
       "      <th>15.</th>\n",
       "      <td>Inder Kumar Gujral</td>\n",
       "      <td>(1919–2012)</td>\n",
       "      <td>[21 April 1997 to 19 March 1998 , 332 days]</td>\n",
       "      <td>------</td>\n",
       "    </tr>\n",
       "    <tr>\n",
       "      <th>16.</th>\n",
       "      <td>Atal Bihari Vajpayee</td>\n",
       "      <td>(1924-2018)</td>\n",
       "      <td>[19 March 1998 to 22 May 2004 , 6 years, 64 days]</td>\n",
       "      <td>The first non-congress PM who completed a full term as PM</td>\n",
       "    </tr>\n",
       "    <tr>\n",
       "      <th>17.</th>\n",
       "      <td>Manmohan Singh</td>\n",
       "      <td>(born 1932)</td>\n",
       "      <td>[22 May 2004 to 26 May 2014   , 10 years, 4 days]</td>\n",
       "      <td>First Sikh PM</td>\n",
       "    </tr>\n",
       "    <tr>\n",
       "      <th>18.</th>\n",
       "      <td>Narendra Modi</td>\n",
       "      <td>(born 1950)</td>\n",
       "      <td>26 May 2014 - Present</td>\n",
       "      <td>4th Prime Minister of India who served two consecutive tenures</td>\n",
       "    </tr>\n",
       "  </tbody>\n",
       "</table>\n",
       "</div>"
      ],
      "text/plain": [
       "                                      NAME     BORN-DEAD  \\\n",
       "SERIAL_NUMBER                                              \n",
       "1.                       Jawahar Lal Nehru   (1889–1964)   \n",
       "2.               Gulzarilal Nanda (Acting)   (1898-1998)   \n",
       "3.                     Lal Bahadur Shastri   (1904–1966)   \n",
       "4.             Gulzari Lal Nanda  (Acting)   (1898-1998)   \n",
       "5.                           Indira Gandhi   (1917–1984)   \n",
       "6.                           Morarji Desai   (1896–1995)   \n",
       "7.                            Charan Singh   (1902–1987)   \n",
       "8.                           Indira Gandhi   (1917–1984)   \n",
       "9.                            Rajiv Gandhi   (1944–1991)   \n",
       "10.                            V. P. Singh   (1931–2008)   \n",
       "11.                        Chandra Shekhar   (1927–2007)   \n",
       "12.                    P. V. Narasimha Rao   (1921–2004)   \n",
       "13.                   Atal Bihari Vajpayee  (1924- 2018)   \n",
       "14.                       H. D. Deve Gowda   (born 1933)   \n",
       "15.                     Inder Kumar Gujral   (1919–2012)   \n",
       "16.                   Atal Bihari Vajpayee   (1924-2018)   \n",
       "17.                         Manmohan Singh   (born 1932)   \n",
       "18.                          Narendra Modi   (born 1950)   \n",
       "\n",
       "                                                        TERM OF OFFICE  \\\n",
       "SERIAL_NUMBER                                                            \n",
       "1.                 [15 August 1947 to 27 May 1964, 16 years, 286 days]   \n",
       "2.                              [27 May 1964 to 9 June 1964,, 13 days]   \n",
       "3.                  [9 June 1964 to 11 January 1966, 1 year, 216 days]   \n",
       "4.                       [11 January 1966 to 24 January 1966, 13 days]   \n",
       "5.               [24 January 1966 to 24 March 1977, 11 years, 59 days]   \n",
       "6.                 [24 March 1977 to  28 July 1979 , 2 year, 126 days]   \n",
       "7.                         [28 July 1979 to 14 January 1980, 170 days]   \n",
       "8.             [14 January 1980 to 31 October 1984, 4 years, 291 days]   \n",
       "9.              [31 October 1984 to 2 December 1989, 5 years, 32 days]   \n",
       "10.                    [2 December 1989 to 10 November 1990, 343 days]   \n",
       "11.                       [10 November 1990 to 21 June 1991, 223 days]   \n",
       "12.                   [21 June 1991 to 16 May 1996, 4 years, 330 days]   \n",
       "13.                              [16 May 1996 to 1 June 1996, 16 days]   \n",
       "14.                           [1 June 1996 to 21 April 1997, 324 days]   \n",
       "15.                        [21 April 1997 to 19 March 1998 , 332 days]   \n",
       "16.                  [19 March 1998 to 22 May 2004 , 6 years, 64 days]   \n",
       "17.                  [22 May 2004 to 26 May 2014   , 10 years, 4 days]   \n",
       "18.                                              26 May 2014 - Present   \n",
       "\n",
       "                                                                                                           REMARK  \n",
       "SERIAL_NUMBER                                                                                                      \n",
       "1.             The first prime minister of India and the longest-serving PM of India, the first to die in office.  \n",
       "2.                                                                                       First acting PM of India  \n",
       "3.                               He has given the slogan of 'Jai Jawan Jai Kisan' during the Indo-Pak war of 1965  \n",
       "4.                                                                                                              -  \n",
       "5.                                                                           First female Prime Minister of India  \n",
       "6.                                             Oldest to become PM (81 years old) and first to resign from office  \n",
       "7.                                                                        Only PM who did not face the Parliament  \n",
       "8.                                                            The first lady who served as PM for the second term  \n",
       "9.                                                                           Youngest to become PM (40 years old)  \n",
       "10.                                                           First PM to step down after a vote of no confidence  \n",
       "11.                                                                         He belongs to  Samajwadi Janata Party  \n",
       "12.                                                                                     First PM from south India  \n",
       "13.                                                                                        PM for shortest tenure  \n",
       "14.                                                                                     He belongs to  Janata Dal  \n",
       "15.                                                                                                        ------  \n",
       "16.                                                     The first non-congress PM who completed a full term as PM  \n",
       "17.                                                                                                 First Sikh PM  \n",
       "18.                                                4th Prime Minister of India who served two consecutive tenures  "
      ]
     },
     "execution_count": 108,
     "metadata": {},
     "output_type": "execute_result"
    }
   ],
   "source": [
    "PRIME_MINISTERS"
   ]
  },
  {
   "cell_type": "code",
   "execution_count": 109,
   "id": "57c5ed27",
   "metadata": {},
   "outputs": [],
   "source": [
    "driver.quit()"
   ]
  },
  {
   "cell_type": "markdown",
   "id": "cdf9fb30",
   "metadata": {},
   "source": [
    "----------------------------------------------------------------------------------------------------------------------------------------------------------------\n",
    "\n",
    "Q11: Write s python program to display list of 50 Most expensive cars in the world (i.e. Company name, Model \n",
    "name and Price) from https://www.motor1.com/\n",
    "This task will be done in following steps:\n",
    "1. First get the webpage https://www.motor1.com/\n",
    "2. Then You have to click on the List option from Dropdown menu on left side.\n",
    "3. Then click on 50 most expensive cars in the world..\n",
    "4. Then scrap the mentioned data and make th\n",
    "\n",
    "\n",
    "\n"
   ]
  },
  {
   "cell_type": "markdown",
   "id": "f3e4f70f",
   "metadata": {},
   "source": [
    "GETTING THE URLs--------------------------"
   ]
  },
  {
   "cell_type": "code",
   "execution_count": 118,
   "id": "ac2b304d",
   "metadata": {},
   "outputs": [],
   "source": [
    "driver=webdriver.Chrome(r'C:\\Users\\VNarayan\\Downloads\\chromedriver.exe')\n",
    "driver.maximize_window()"
   ]
  },
  {
   "cell_type": "code",
   "execution_count": 119,
   "id": "615cb690",
   "metadata": {},
   "outputs": [],
   "source": [
    "url=\" https://www.motor1.com/\"\n",
    "driver.get(url)"
   ]
  },
  {
   "cell_type": "markdown",
   "id": "f0fa2787",
   "metadata": {},
   "source": [
    "CLICKING ON THE 3 HORIZONTAL LINES TAB----------------"
   ]
  },
  {
   "cell_type": "code",
   "execution_count": 120,
   "id": "03912a88",
   "metadata": {},
   "outputs": [],
   "source": [
    "cl=driver.find_element(By.XPATH,'//div[@class=\"m1-hamburger-button\"]')\n",
    "cl.click()"
   ]
  },
  {
   "cell_type": "markdown",
   "id": "ec929b50",
   "metadata": {},
   "source": [
    "CLICKING ON THE LISTS TAB"
   ]
  },
  {
   "cell_type": "code",
   "execution_count": 121,
   "id": "54454767",
   "metadata": {},
   "outputs": [],
   "source": [
    "listy=driver.find_element(By.XPATH,'/html/body/div[3]/div[1]/div[3]/ul/li[4]/a')\n"
   ]
  },
  {
   "cell_type": "code",
   "execution_count": 122,
   "id": "20137be2",
   "metadata": {},
   "outputs": [],
   "source": [
    "listy.click()"
   ]
  },
  {
   "cell_type": "markdown",
   "id": "6f54a279",
   "metadata": {},
   "source": [
    "CLICKING ON 50 MOST EXPENSIVE CARS IN THE WORLD TAB"
   ]
  },
  {
   "cell_type": "code",
   "execution_count": 123,
   "id": "03797f45",
   "metadata": {},
   "outputs": [],
   "source": [
    "exp=driver.find_element(By.XPATH,\"//div[@class='text-box']/h3/a[contains(@href,'-new-cars-ever')]\")\n"
   ]
  },
  {
   "cell_type": "code",
   "execution_count": 124,
   "id": "efd65eb0",
   "metadata": {},
   "outputs": [],
   "source": [
    "exp.click()"
   ]
  },
  {
   "cell_type": "markdown",
   "id": "36b21158",
   "metadata": {},
   "source": [
    "CREATING LISTS FOR NAME OF CAR AS name_car and PRICE as price_car--------------------------------------"
   ]
  },
  {
   "cell_type": "code",
   "execution_count": 125,
   "id": "99011fce",
   "metadata": {},
   "outputs": [],
   "source": [
    "import re\n",
    "name_car=[]\n",
    "price_car=[]\n",
    "# ------appending name of car in name_car and price of car in price_car and using string formatting-----\n",
    "car=driver.find_elements(By.XPATH,\"/html/body/div[2]/div[7]/div[2]/div[1]/div[2]/div[1]/ul/li\")\n",
    "for i in car:\n",
    "    # formatting strings using replace and split\n",
    "    ele=i.text.replace('-','').replace(':','').split('$')\n",
    "    name_car.append(ele[0])\n",
    "    price_car.append(ele[1])"
   ]
  },
  {
   "cell_type": "code",
   "execution_count": 126,
   "id": "3c128460",
   "metadata": {},
   "outputs": [],
   "source": [
    "most_expensive=pd.DataFrame({\"NAME OF THE CAR\":name_car,\"PRICE OF THE CAR IN ($)\":price_car})"
   ]
  },
  {
   "cell_type": "code",
   "execution_count": 127,
   "id": "b4ec126a",
   "metadata": {},
   "outputs": [
    {
     "data": {
      "text/html": [
       "<div>\n",
       "<style scoped>\n",
       "    .dataframe tbody tr th:only-of-type {\n",
       "        vertical-align: middle;\n",
       "    }\n",
       "\n",
       "    .dataframe tbody tr th {\n",
       "        vertical-align: top;\n",
       "    }\n",
       "\n",
       "    .dataframe thead th {\n",
       "        text-align: right;\n",
       "    }\n",
       "</style>\n",
       "<table border=\"1\" class=\"dataframe\">\n",
       "  <thead>\n",
       "    <tr style=\"text-align: right;\">\n",
       "      <th></th>\n",
       "      <th>NAME OF THE CAR</th>\n",
       "      <th>PRICE OF THE CAR IN ($)</th>\n",
       "    </tr>\n",
       "  </thead>\n",
       "  <tbody>\n",
       "    <tr>\n",
       "      <th>0</th>\n",
       "      <td>Drako GTE</td>\n",
       "      <td>1.2 Million</td>\n",
       "    </tr>\n",
       "    <tr>\n",
       "      <th>1</th>\n",
       "      <td>DeTomaso P72</td>\n",
       "      <td>1.3 Million</td>\n",
       "    </tr>\n",
       "    <tr>\n",
       "      <th>2</th>\n",
       "      <td>Ferrari LaFerrari</td>\n",
       "      <td>1.4 Million</td>\n",
       "    </tr>\n",
       "    <tr>\n",
       "      <th>3</th>\n",
       "      <td>Pagani Huayra</td>\n",
       "      <td>1.4 Million</td>\n",
       "    </tr>\n",
       "    <tr>\n",
       "      <th>4</th>\n",
       "      <td>Czinger 21C</td>\n",
       "      <td>1.7 Million</td>\n",
       "    </tr>\n",
       "    <tr>\n",
       "      <th>5</th>\n",
       "      <td>Ferrari Monza</td>\n",
       "      <td>1.7 Million</td>\n",
       "    </tr>\n",
       "    <tr>\n",
       "      <th>6</th>\n",
       "      <td>Gordon Murray T.33</td>\n",
       "      <td>1.7 Million</td>\n",
       "    </tr>\n",
       "    <tr>\n",
       "      <th>7</th>\n",
       "      <td>Koenigsegg Gemera</td>\n",
       "      <td>1.7 Million</td>\n",
       "    </tr>\n",
       "    <tr>\n",
       "      <th>8</th>\n",
       "      <td>McLaren Elva</td>\n",
       "      <td>1.7 Million</td>\n",
       "    </tr>\n",
       "    <tr>\n",
       "      <th>9</th>\n",
       "      <td>Zenvo TSRS</td>\n",
       "      <td>1.7 Million</td>\n",
       "    </tr>\n",
       "    <tr>\n",
       "      <th>10</th>\n",
       "      <td>Hennessey Venom F5</td>\n",
       "      <td>1.8 Million</td>\n",
       "    </tr>\n",
       "    <tr>\n",
       "      <th>11</th>\n",
       "      <td>Bentley Bacalar</td>\n",
       "      <td>1.9 Million</td>\n",
       "    </tr>\n",
       "    <tr>\n",
       "      <th>12</th>\n",
       "      <td>Hispano Suiza Carmen Boulogne</td>\n",
       "      <td>1.9 Million</td>\n",
       "    </tr>\n",
       "    <tr>\n",
       "      <th>13</th>\n",
       "      <td>Bentley Mulliner Batur</td>\n",
       "      <td>2.0 Million</td>\n",
       "    </tr>\n",
       "    <tr>\n",
       "      <th>14</th>\n",
       "      <td>Deus Vayanne</td>\n",
       "      <td>2.0 Million</td>\n",
       "    </tr>\n",
       "    <tr>\n",
       "      <th>15</th>\n",
       "      <td>SSC Tuatara</td>\n",
       "      <td>2.0 Million*</td>\n",
       "    </tr>\n",
       "    <tr>\n",
       "      <th>16</th>\n",
       "      <td>Lotus Evija</td>\n",
       "      <td>2.1 Million</td>\n",
       "    </tr>\n",
       "    <tr>\n",
       "      <th>17</th>\n",
       "      <td>Aston Martin Vulcan</td>\n",
       "      <td>2.3 Million</td>\n",
       "    </tr>\n",
       "    <tr>\n",
       "      <th>18</th>\n",
       "      <td>Delage D12</td>\n",
       "      <td>2.3 Million</td>\n",
       "    </tr>\n",
       "    <tr>\n",
       "      <th>19</th>\n",
       "      <td>McLaren Speedtail</td>\n",
       "      <td>2.3 Million</td>\n",
       "    </tr>\n",
       "    <tr>\n",
       "      <th>20</th>\n",
       "      <td>Rimac Nevera</td>\n",
       "      <td>2.4 Million</td>\n",
       "    </tr>\n",
       "    <tr>\n",
       "      <th>21</th>\n",
       "      <td>Pagani Utopia</td>\n",
       "      <td>2.5 Million</td>\n",
       "    </tr>\n",
       "    <tr>\n",
       "      <th>22</th>\n",
       "      <td>Pininfarina Battista</td>\n",
       "      <td>2.5 Million</td>\n",
       "    </tr>\n",
       "    <tr>\n",
       "      <th>23</th>\n",
       "      <td>Ferrari FXX K Evo</td>\n",
       "      <td>2.6 Million</td>\n",
       "    </tr>\n",
       "    <tr>\n",
       "      <th>24</th>\n",
       "      <td>Gordon Murray T.50</td>\n",
       "      <td>2.6 Million</td>\n",
       "    </tr>\n",
       "    <tr>\n",
       "      <th>25</th>\n",
       "      <td>Lamborghini Countach</td>\n",
       "      <td>2.6 Million</td>\n",
       "    </tr>\n",
       "    <tr>\n",
       "      <th>26</th>\n",
       "      <td>MercedesAMG Project One</td>\n",
       "      <td>2.7 Million</td>\n",
       "    </tr>\n",
       "    <tr>\n",
       "      <th>27</th>\n",
       "      <td>Aston Martin Victor</td>\n",
       "      <td>3.0 Million</td>\n",
       "    </tr>\n",
       "    <tr>\n",
       "      <th>28</th>\n",
       "      <td>Hennessey Venom F5 Roadster</td>\n",
       "      <td>3.0 Million</td>\n",
       "    </tr>\n",
       "    <tr>\n",
       "      <th>29</th>\n",
       "      <td>Koenigsegg Jesko</td>\n",
       "      <td>3.0 Million</td>\n",
       "    </tr>\n",
       "    <tr>\n",
       "      <th>30</th>\n",
       "      <td>Aston Martin Valkyrie</td>\n",
       "      <td>3.2 Million</td>\n",
       "    </tr>\n",
       "    <tr>\n",
       "      <th>31</th>\n",
       "      <td>W Motors Lykan Hypersport</td>\n",
       "      <td>3.4 Million</td>\n",
       "    </tr>\n",
       "    <tr>\n",
       "      <th>32</th>\n",
       "      <td>McLaren Solus</td>\n",
       "      <td>3.5 Million</td>\n",
       "    </tr>\n",
       "    <tr>\n",
       "      <th>33</th>\n",
       "      <td>Pagani Huayra Roadster BC</td>\n",
       "      <td>3.5 Million</td>\n",
       "    </tr>\n",
       "    <tr>\n",
       "      <th>34</th>\n",
       "      <td>Bugatti Chiron Pur Sport</td>\n",
       "      <td>3.6 Million</td>\n",
       "    </tr>\n",
       "    <tr>\n",
       "      <th>35</th>\n",
       "      <td>Lamborghini Sian</td>\n",
       "      <td>3.6 million</td>\n",
       "    </tr>\n",
       "    <tr>\n",
       "      <th>36</th>\n",
       "      <td>Koenigsegg CC850</td>\n",
       "      <td>3.7 Million</td>\n",
       "    </tr>\n",
       "    <tr>\n",
       "      <th>37</th>\n",
       "      <td>Bugatti Chiron Super Sport 300+</td>\n",
       "      <td>3.9 Million</td>\n",
       "    </tr>\n",
       "    <tr>\n",
       "      <th>38</th>\n",
       "      <td>Lamborghini Veneno</td>\n",
       "      <td>4.5 Million</td>\n",
       "    </tr>\n",
       "    <tr>\n",
       "      <th>39</th>\n",
       "      <td>Bugatti Bolide</td>\n",
       "      <td>4.7 Million</td>\n",
       "    </tr>\n",
       "    <tr>\n",
       "      <th>40</th>\n",
       "      <td>Bugatti Mistral</td>\n",
       "      <td>5.0 Million</td>\n",
       "    </tr>\n",
       "    <tr>\n",
       "      <th>41</th>\n",
       "      <td>Pagani Huayra Imola</td>\n",
       "      <td>5.4 Million</td>\n",
       "    </tr>\n",
       "    <tr>\n",
       "      <th>42</th>\n",
       "      <td>Bugatti Divo</td>\n",
       "      <td>5.8 Million</td>\n",
       "    </tr>\n",
       "    <tr>\n",
       "      <th>43</th>\n",
       "      <td>SP Automotive Chaos</td>\n",
       "      <td>6.4 Million</td>\n",
       "    </tr>\n",
       "    <tr>\n",
       "      <th>44</th>\n",
       "      <td>Pagani Codalunga</td>\n",
       "      <td>7.4 Million</td>\n",
       "    </tr>\n",
       "    <tr>\n",
       "      <th>45</th>\n",
       "      <td>MercedesMaybach Exelero</td>\n",
       "      <td>8.0 Million</td>\n",
       "    </tr>\n",
       "    <tr>\n",
       "      <th>46</th>\n",
       "      <td>Bugatti Centodieci</td>\n",
       "      <td>9.0 Million</td>\n",
       "    </tr>\n",
       "    <tr>\n",
       "      <th>47</th>\n",
       "      <td>RollsRoyce Sweptail</td>\n",
       "      <td>12.8 Million</td>\n",
       "    </tr>\n",
       "    <tr>\n",
       "      <th>48</th>\n",
       "      <td>Bugatti La Voiture Noire</td>\n",
       "      <td>13.4 Million</td>\n",
       "    </tr>\n",
       "    <tr>\n",
       "      <th>49</th>\n",
       "      <td>RollsRoyce Boat Tail</td>\n",
       "      <td>28.0 Million*</td>\n",
       "    </tr>\n",
       "  </tbody>\n",
       "</table>\n",
       "</div>"
      ],
      "text/plain": [
       "                      NAME OF THE CAR PRICE OF THE CAR IN ($)\n",
       "0                         Drako GTE               1.2 Million\n",
       "1                       DeTomaso P72              1.3 Million\n",
       "2                 Ferrari LaFerrari               1.4 Million\n",
       "3                     Pagani Huayra               1.4 Million\n",
       "4                       Czinger 21C               1.7 Million\n",
       "5                     Ferrari Monza               1.7 Million\n",
       "6                Gordon Murray T.33               1.7 Million\n",
       "7                 Koenigsegg Gemera               1.7 Million\n",
       "8                      McLaren Elva               1.7 Million\n",
       "9                        Zenvo TSRS               1.7 Million\n",
       "10               Hennessey Venom F5               1.8 Million\n",
       "11                  Bentley Bacalar               1.9 Million\n",
       "12     Hispano Suiza Carmen Boulogne              1.9 Million\n",
       "13            Bentley Mulliner Batur              2.0 Million\n",
       "14                      Deus Vayanne              2.0 Million\n",
       "15                      SSC Tuatara              2.0 Million*\n",
       "16                      Lotus Evija               2.1 Million\n",
       "17              Aston Martin Vulcan               2.3 Million\n",
       "18                        Delage D12              2.3 Million\n",
       "19                McLaren Speedtail               2.3 Million\n",
       "20                     Rimac Nevera               2.4 Million\n",
       "21                     Pagani Utopia              2.5 Million\n",
       "22             Pininfarina Battista               2.5 Million\n",
       "23                Ferrari FXX K Evo               2.6 Million\n",
       "24               Gordon Murray T.50               2.6 Million\n",
       "25             Lamborghini Countach               2.6 Million\n",
       "26          MercedesAMG Project One               2.7 Million\n",
       "27              Aston Martin Victor               3.0 Million\n",
       "28       Hennessey Venom F5 Roadster              3.0 Million\n",
       "29                 Koenigsegg Jesko               3.0 Million\n",
       "30            Aston Martin Valkyrie               3.2 Million\n",
       "31        W Motors Lykan Hypersport               3.4 Million\n",
       "32                     McLaren Solus              3.5 Million\n",
       "33        Pagani Huayra Roadster BC               3.5 Million\n",
       "34         Bugatti Chiron Pur Sport               3.6 Million\n",
       "35                 Lamborghini Sian               3.6 million\n",
       "36                  Koenigsegg CC850              3.7 Million\n",
       "37  Bugatti Chiron Super Sport 300+               3.9 Million\n",
       "38               Lamborghini Veneno               4.5 Million\n",
       "39                   Bugatti Bolide               4.7 Million\n",
       "40                   Bugatti Mistral              5.0 Million\n",
       "41               Pagani Huayra Imola              5.4 Million\n",
       "42                     Bugatti Divo               5.8 Million\n",
       "43              SP Automotive Chaos               6.4 Million\n",
       "44                  Pagani Codalunga              7.4 Million\n",
       "45          MercedesMaybach Exelero               8.0 Million\n",
       "46               Bugatti Centodieci               9.0 Million\n",
       "47              RollsRoyce Sweptail              12.8 Million\n",
       "48         Bugatti La Voiture Noire              13.4 Million\n",
       "49             RollsRoyce Boat Tail             28.0 Million*"
      ]
     },
     "execution_count": 127,
     "metadata": {},
     "output_type": "execute_result"
    }
   ],
   "source": [
    "most_expensive"
   ]
  },
  {
   "cell_type": "code",
   "execution_count": 128,
   "id": "eeba6301",
   "metadata": {},
   "outputs": [],
   "source": [
    "driver.quit()"
   ]
  },
  {
   "cell_type": "markdown",
   "id": "142f93ca",
   "metadata": {},
   "source": [
    "ALL 11 QUESTIONS IN WORKING CONDITION \n",
    "--------------------------\n",
    "ASSIGNMENT COMPLETED\n",
    "----------------------------------------------------"
   ]
  },
  {
   "cell_type": "code",
   "execution_count": null,
   "id": "03a57bc4",
   "metadata": {},
   "outputs": [],
   "source": []
  }
 ],
 "metadata": {
  "kernelspec": {
   "display_name": "Python 3 (ipykernel)",
   "language": "python",
   "name": "python3"
  },
  "language_info": {
   "codemirror_mode": {
    "name": "ipython",
    "version": 3
   },
   "file_extension": ".py",
   "mimetype": "text/x-python",
   "name": "python",
   "nbconvert_exporter": "python",
   "pygments_lexer": "ipython3",
   "version": "3.9.12"
  }
 },
 "nbformat": 4,
 "nbformat_minor": 5
}
